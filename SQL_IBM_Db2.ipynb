{
 "cells": [
  {
   "cell_type": "markdown",
   "metadata": {},
   "source": [
    "## A simple set of queries to fetch data from IBM Db2 database"
   ]
  },
  {
   "cell_type": "code",
   "execution_count": 33,
   "metadata": {},
   "outputs": [],
   "source": [
    "import ibm_db\n",
    "import pandas as pd \n",
    "import ibm_db_dbi\n",
    "import ibm_db_sa\n",
    "import sqlalchemy"
   ]
  },
  {
   "cell_type": "markdown",
   "metadata": {},
   "source": [
    "Data Source:\n",
    "Snapshots for the three datasets in .CSV format can be downloaded from the following links:\n",
    "\n",
    "Chicago Socioeconomic Indicators: https://ibm.box.com/shared/static/05c3415cbfbtfnr2fx4atenb2sd361ze.csv\n",
    "Chicago Public Schools: https://ibm.box.com/shared/static/f9gjvj1gjmxxzycdhplzt01qtz0s7ew7.csv\n",
    "Chicago Crime Data: https://ibm.box.com/shared/static/svflyugsr9zbqy5bmowgswqemfpm1x7f.csv\n",
    "        \n",
    "Original Data:\n",
    "1. Chicago Socioeconomic Indicators\n",
    "\n",
    "This [dataset](https://data.cityofchicago.org/Health-Human-Services/Census-Data-Selected-socioeconomic-indicators-in-C/kn9c-c2s2) contains a selection of six socioeconomic indicators of public health significance and a “hardship index,” by Chicago community area, for the years 2008 – 2012.\n",
    "\n",
    "2. Chicago Public Schools\n",
    "\n",
    "This [dataset](https://data.cityofchicago.org/Education/Chicago-Public-Schools-Progress-Report-Cards-2011-/9xs2-f89t) shows all school level performance data used to create CPS School Report Cards for the 2011-2012 school year.\n",
    "\n",
    "3. Chicago Crime Data\n",
    "\n",
    "This [dataset](https://data.cityofchicago.org/Public-Safety/Crimes-2001-to-present/ijzp-q8t2) reflects reported incidents of crime (with the exception of murders where data exists for each victim) that occurred in the City of Chicago from 2001 to present, minus the most recent seven days.\n",
    "\n"
   ]
  },
  {
   "cell_type": "code",
   "execution_count": 2,
   "metadata": {},
   "outputs": [],
   "source": [
    "%load_ext sql"
   ]
  },
  {
   "cell_type": "code",
   "execution_count": 34,
   "metadata": {},
   "outputs": [
    {
     "data": {
      "text/plain": [
       "'Connected: gsv42017@BLUDB'"
      ]
     },
     "execution_count": 34,
     "metadata": {},
     "output_type": "execute_result"
    }
   ],
   "source": [
    "# this does not work if jupyter is already connected to IBM db2 using API.\n",
    "%sql ibm_db_sa://gsv42017:wlmx0qnkw13xds%5E2@dashdb-txn-sbox-yp-dal09-03.services.dal.bluemix.net:50000/BLUDB\n",
    "            "
   ]
  },
  {
   "cell_type": "code",
   "execution_count": 4,
   "metadata": {},
   "outputs": [],
   "source": [
    "pd.set_option('display.max_columns',0)\n"
   ]
  },
  {
   "cell_type": "code",
   "execution_count": 27,
   "metadata": {},
   "outputs": [],
   "source": [
    "#Following 3-4 cells are to connect to ibm-db2 using API and a wrapper to use with pandas"
   ]
  },
  {
   "cell_type": "code",
   "execution_count": 366,
   "metadata": {},
   "outputs": [],
   "source": [
    "#Replace the placeholder values with your actual Db2 hostname, username, and password:\n",
    "dsn_hostname = \"dashdb-txn-sbox-yp-dal09-03.services.dal.bluemix.net\" # e.g.: \"dashdb-txn-sbox-yp-dal09-04.services.dal.bluemix.net\"\n",
    "dsn_uid = \"gsv42017\"        # e.g. \"abc12345\"\n",
    "dsn_pwd = \"wlmx0qnkw13xds^2\"      # e.g. \"7dBZ3wWt9XN6$o0J\"\n",
    "\n",
    "dsn_driver = \"{IBM DB2 ODBC DRIVER}\"\n",
    "dsn_database = \"BLUDB\"            # e.g. \"BLUDB\"\n",
    "dsn_port = \"50000\"                # e.g. \"50000\" \n",
    "dsn_protocol = \"TCPIP\"            # i.e. \"TCPIP\""
   ]
  },
  {
   "cell_type": "code",
   "execution_count": 367,
   "metadata": {},
   "outputs": [
    {
     "name": "stdout",
     "output_type": "stream",
     "text": [
      "DRIVER={IBM DB2 ODBC DRIVER};DATABASE=BLUDB;HOSTNAME=dashdb-txn-sbox-yp-dal09-03.services.dal.bluemix.net;PORT=50000;PROTOCOL=TCPIP;UID=gsv42017;PWD=wlmx0qnkw13xds^2;\n"
     ]
    }
   ],
   "source": [
    "#DO NOT MODIFY THIS CELL. \n",
    "#Create the dsn connection string\n",
    "dsn = (\n",
    "    \"DRIVER={0};\"\n",
    "    \"DATABASE={1};\"\n",
    "    \"HOSTNAME={2};\"\n",
    "    \"PORT={3};\"\n",
    "    \"PROTOCOL={4};\"\n",
    "    \"UID={5};\"\n",
    "    \"PWD={6};\").format(dsn_driver, dsn_database, dsn_hostname, dsn_port, dsn_protocol, dsn_uid, dsn_pwd)\n",
    "\n",
    "#print the connection string to check correct values are specified\n",
    "print(dsn)"
   ]
  },
  {
   "cell_type": "code",
   "execution_count": 368,
   "metadata": {},
   "outputs": [
    {
     "name": "stdout",
     "output_type": "stream",
     "text": [
      "Connected to database:  BLUDB as user:  gsv42017 on host:  dashdb-txn-sbox-yp-dal09-03.services.dal.bluemix.net\n"
     ]
    }
   ],
   "source": [
    "#DO NOT MODIFY THIS CELL. Just RUN it with Shift + Enter\n",
    "#Create database connection\n",
    "\n",
    "try:\n",
    "    conn = ibm_db.connect(dsn, \"\", \"\")\n",
    "    print (\"Connected to database: \", dsn_database, \"as user: \", dsn_uid, \"on host: \", dsn_hostname)\n",
    "\n",
    "except:\n",
    "    print (\"Unable to connect: \", ibm_db.conn_errormsg() )\n"
   ]
  },
  {
   "cell_type": "code",
   "execution_count": 369,
   "metadata": {},
   "outputs": [],
   "source": [
    "# to read the sql query results into a dataframe, the connection \n",
    "# needs to be wrapped in an ibm_db_dbi object\n",
    "\n",
    "pconn = ibm_db_dbi.Connection(conn)\n"
   ]
  },
  {
   "cell_type": "code",
   "execution_count": null,
   "metadata": {},
   "outputs": [],
   "source": [
    "# reading all tables into pandas dataframes\n",
    "crime = \"select * from chicago_crime_data\"\n",
    "df_crime = pd.read_sql(crime,pconn)\n",
    "\n",
    "\n",
    "census = \"select * from census_data\"\n",
    "df_census = pd.read_sql(census,pconn)\n",
    "\n",
    "public_schools = \"select * from chicago_public_schools\"\n",
    "df_school = pd.read_sql(public_schools,pconn)"
   ]
  },
  {
   "cell_type": "code",
   "execution_count": 255,
   "metadata": {},
   "outputs": [],
   "source": []
  },
  {
   "cell_type": "markdown",
   "metadata": {},
   "source": [
    "### Q1. Find the total number of crimes recorded in the crime table."
   ]
  },
  {
   "cell_type": "code",
   "execution_count": 7,
   "metadata": {},
   "outputs": [
    {
     "name": "stdout",
     "output_type": "stream",
     "text": [
      " * ibm_db_sa://gsv42017:***@dashdb-txn-sbox-yp-dal09-03.services.dal.bluemix.net:50000/BLUDB\n",
      "Done.\n"
     ]
    },
    {
     "data": {
      "text/html": [
       "<table>\n",
       "    <tr>\n",
       "        <th>1</th>\n",
       "    </tr>\n",
       "    <tr>\n",
       "        <td>533</td>\n",
       "    </tr>\n",
       "</table>"
      ],
      "text/plain": [
       "[(Decimal('533'),)]"
      ]
     },
     "execution_count": 7,
     "metadata": {},
     "output_type": "execute_result"
    }
   ],
   "source": [
    "#Q1\n",
    "%%sql\n",
    "select count(Case_Number) from CHICAGO_CRIME_DATA"
   ]
  },
  {
   "cell_type": "code",
   "execution_count": 257,
   "metadata": {},
   "outputs": [],
   "source": [
    "# construct query\n",
    "sqlQ1 = \"select count(Case_Number) from CHICAGO_CRIME_DATA\"\n"
   ]
  },
  {
   "cell_type": "code",
   "execution_count": 36,
   "metadata": {},
   "outputs": [],
   "source": [
    "#execute the query\n",
    "Q1stmt = ibm_db.exec_immediate(conn, sqlQ1)"
   ]
  },
  {
   "cell_type": "code",
   "execution_count": 37,
   "metadata": {},
   "outputs": [],
   "source": []
  },
  {
   "cell_type": "code",
   "execution_count": 38,
   "metadata": {},
   "outputs": [],
   "source": [
    "# make sure pconn (ibm_db_dbi) is used instead of the original connection created using ibm_db\n",
    "df_Q1 = pd.read_sql(sqlQ1, pconn)"
   ]
  },
  {
   "cell_type": "code",
   "execution_count": 39,
   "metadata": {},
   "outputs": [
    {
     "data": {
      "text/html": [
       "<div>\n",
       "<style scoped>\n",
       "    .dataframe tbody tr th:only-of-type {\n",
       "        vertical-align: middle;\n",
       "    }\n",
       "\n",
       "    .dataframe tbody tr th {\n",
       "        vertical-align: top;\n",
       "    }\n",
       "\n",
       "    .dataframe thead th {\n",
       "        text-align: right;\n",
       "    }\n",
       "</style>\n",
       "<table border=\"1\" class=\"dataframe\">\n",
       "  <thead>\n",
       "    <tr style=\"text-align: right;\">\n",
       "      <th></th>\n",
       "      <th>1</th>\n",
       "    </tr>\n",
       "  </thead>\n",
       "  <tbody>\n",
       "    <tr>\n",
       "      <th>0</th>\n",
       "      <td>533.0</td>\n",
       "    </tr>\n",
       "  </tbody>\n",
       "</table>\n",
       "</div>"
      ],
      "text/plain": [
       "       1\n",
       "0  533.0"
      ]
     },
     "execution_count": 39,
     "metadata": {},
     "output_type": "execute_result"
    }
   ],
   "source": [
    "# print results of the query\n",
    "df_Q1"
   ]
  },
  {
   "cell_type": "markdown",
   "metadata": {},
   "source": [
    "### Q2. Retrieve first 10 rows from the CRIME table."
   ]
  },
  {
   "cell_type": "code",
   "execution_count": 31,
   "metadata": {},
   "outputs": [
    {
     "name": "stdout",
     "output_type": "stream",
     "text": [
      " * ibm_db_sa://gsv42017:***@dashdb-txn-sbox-yp-dal09-03.services.dal.bluemix.net:50000/BLUDB\n",
      "Done.\n"
     ]
    },
    {
     "data": {
      "text/html": [
       "<table>\n",
       "    <tr>\n",
       "        <th>id</th>\n",
       "        <th>case_number</th>\n",
       "        <th>DATE</th>\n",
       "        <th>block</th>\n",
       "        <th>iucr</th>\n",
       "        <th>primary_type</th>\n",
       "        <th>description</th>\n",
       "        <th>location_description</th>\n",
       "        <th>arrest</th>\n",
       "        <th>domestic</th>\n",
       "        <th>beat</th>\n",
       "        <th>district</th>\n",
       "        <th>ward</th>\n",
       "        <th>community_area_number</th>\n",
       "        <th>fbicode</th>\n",
       "        <th>x_coordinate</th>\n",
       "        <th>y_coordinate</th>\n",
       "        <th>YEAR</th>\n",
       "        <th>updatedon</th>\n",
       "        <th>latitude</th>\n",
       "        <th>longitude</th>\n",
       "        <th>location</th>\n",
       "    </tr>\n",
       "    <tr>\n",
       "        <td>3512276</td>\n",
       "        <td>HK587712</td>\n",
       "        <td>08/28/2004 05:50:56 PM</td>\n",
       "        <td>047XX S KEDZIE AVE</td>\n",
       "        <td>890</td>\n",
       "        <td>THEFT</td>\n",
       "        <td>FROM BUILDING</td>\n",
       "        <td>SMALL RETAIL STORE</td>\n",
       "        <td>FALSE</td>\n",
       "        <td>FALSE</td>\n",
       "        <td>911</td>\n",
       "        <td>9</td>\n",
       "        <td>14</td>\n",
       "        <td>58</td>\n",
       "        <td>6</td>\n",
       "        <td>1155838</td>\n",
       "        <td>1873050</td>\n",
       "        <td>2004</td>\n",
       "        <td>02/10/2018 03:50:01 PM</td>\n",
       "        <td>41.80744050</td>\n",
       "        <td>-87.70395585</td>\n",
       "        <td>(41.8074405, -87.703955849)</td>\n",
       "    </tr>\n",
       "    <tr>\n",
       "        <td>3406613</td>\n",
       "        <td>HK456306</td>\n",
       "        <td>06/26/2004 12:40:00 PM</td>\n",
       "        <td>009XX N CENTRAL PARK AVE</td>\n",
       "        <td>820</td>\n",
       "        <td>THEFT</td>\n",
       "        <td>$500 AND UNDER</td>\n",
       "        <td>OTHER</td>\n",
       "        <td>FALSE</td>\n",
       "        <td>FALSE</td>\n",
       "        <td>1112</td>\n",
       "        <td>11</td>\n",
       "        <td>27</td>\n",
       "        <td>23</td>\n",
       "        <td>6</td>\n",
       "        <td>1152206</td>\n",
       "        <td>1906127</td>\n",
       "        <td>2004</td>\n",
       "        <td>02/28/2018 03:56:25 PM</td>\n",
       "        <td>41.89827996</td>\n",
       "        <td>-87.71640551</td>\n",
       "        <td>(41.898279962, -87.716405505)</td>\n",
       "    </tr>\n",
       "    <tr>\n",
       "        <td>8002131</td>\n",
       "        <td>HT233595</td>\n",
       "        <td>04/04/2011 05:45:00 AM</td>\n",
       "        <td>043XX S WABASH AVE</td>\n",
       "        <td>820</td>\n",
       "        <td>THEFT</td>\n",
       "        <td>$500 AND UNDER</td>\n",
       "        <td>NURSING HOME/RETIREMENT HOME</td>\n",
       "        <td>FALSE</td>\n",
       "        <td>FALSE</td>\n",
       "        <td>221</td>\n",
       "        <td>2</td>\n",
       "        <td>3</td>\n",
       "        <td>38</td>\n",
       "        <td>6</td>\n",
       "        <td>1177436</td>\n",
       "        <td>1876313</td>\n",
       "        <td>2011</td>\n",
       "        <td>02/10/2018 03:50:01 PM</td>\n",
       "        <td>41.81593313</td>\n",
       "        <td>-87.62464213</td>\n",
       "        <td>(41.815933131, -87.624642127)</td>\n",
       "    </tr>\n",
       "    <tr>\n",
       "        <td>7903289</td>\n",
       "        <td>HT133522</td>\n",
       "        <td>12/30/2010 04:30:00 PM</td>\n",
       "        <td>083XX S KINGSTON AVE</td>\n",
       "        <td>840</td>\n",
       "        <td>THEFT</td>\n",
       "        <td>FINANCIAL ID THEFT: OVER $300</td>\n",
       "        <td>RESIDENCE</td>\n",
       "        <td>FALSE</td>\n",
       "        <td>FALSE</td>\n",
       "        <td>423</td>\n",
       "        <td>4</td>\n",
       "        <td>7</td>\n",
       "        <td>46</td>\n",
       "        <td>6</td>\n",
       "        <td>1194622</td>\n",
       "        <td>1850125</td>\n",
       "        <td>2010</td>\n",
       "        <td>02/10/2018 03:50:01 PM</td>\n",
       "        <td>41.74366532</td>\n",
       "        <td>-87.56246276</td>\n",
       "        <td>(41.743665322, -87.562462756)</td>\n",
       "    </tr>\n",
       "    <tr>\n",
       "        <td>10402076</td>\n",
       "        <td>HZ138551</td>\n",
       "        <td>02/02/2016 07:30:00 PM</td>\n",
       "        <td>033XX W 66TH ST</td>\n",
       "        <td>820</td>\n",
       "        <td>THEFT</td>\n",
       "        <td>$500 AND UNDER</td>\n",
       "        <td>ALLEY</td>\n",
       "        <td>FALSE</td>\n",
       "        <td>FALSE</td>\n",
       "        <td>831</td>\n",
       "        <td>8</td>\n",
       "        <td>15</td>\n",
       "        <td>66</td>\n",
       "        <td>6</td>\n",
       "        <td>1155240</td>\n",
       "        <td>1860661</td>\n",
       "        <td>2016</td>\n",
       "        <td>02/10/2018 03:50:01 PM</td>\n",
       "        <td>41.77345530</td>\n",
       "        <td>-87.70648047</td>\n",
       "        <td>(41.773455295, -87.706480471)</td>\n",
       "    </tr>\n",
       "    <tr>\n",
       "        <td>7732712</td>\n",
       "        <td>HS540106</td>\n",
       "        <td>09/29/2010 07:59:00 AM</td>\n",
       "        <td>006XX W CHICAGO AVE</td>\n",
       "        <td>810</td>\n",
       "        <td>THEFT</td>\n",
       "        <td>OVER $500</td>\n",
       "        <td>PARKING LOT/GARAGE(NON.RESID.)</td>\n",
       "        <td>FALSE</td>\n",
       "        <td>FALSE</td>\n",
       "        <td>1323</td>\n",
       "        <td>12</td>\n",
       "        <td>27</td>\n",
       "        <td>24</td>\n",
       "        <td>6</td>\n",
       "        <td>1171668</td>\n",
       "        <td>1905607</td>\n",
       "        <td>2010</td>\n",
       "        <td>02/10/2018 03:50:01 PM</td>\n",
       "        <td>41.89644677</td>\n",
       "        <td>-87.64493868</td>\n",
       "        <td>(41.896446772, -87.644938678)</td>\n",
       "    </tr>\n",
       "    <tr>\n",
       "        <td>10769475</td>\n",
       "        <td>HZ534771</td>\n",
       "        <td>11/30/2016 01:15:00 AM</td>\n",
       "        <td>050XX N KEDZIE AVE</td>\n",
       "        <td>810</td>\n",
       "        <td>THEFT</td>\n",
       "        <td>OVER $500</td>\n",
       "        <td>STREET</td>\n",
       "        <td>FALSE</td>\n",
       "        <td>FALSE</td>\n",
       "        <td>1713</td>\n",
       "        <td>17</td>\n",
       "        <td>33</td>\n",
       "        <td>14</td>\n",
       "        <td>6</td>\n",
       "        <td>1154133</td>\n",
       "        <td>1933314</td>\n",
       "        <td>2016</td>\n",
       "        <td>02/10/2018 03:50:01 PM</td>\n",
       "        <td>41.97284491</td>\n",
       "        <td>-87.70860008</td>\n",
       "        <td>(41.972844913, -87.708600079)</td>\n",
       "    </tr>\n",
       "    <tr>\n",
       "        <td>4494340</td>\n",
       "        <td>HL793243</td>\n",
       "        <td>12/16/2005 04:45:00 PM</td>\n",
       "        <td>005XX E PERSHING RD</td>\n",
       "        <td>860</td>\n",
       "        <td>THEFT</td>\n",
       "        <td>RETAIL THEFT</td>\n",
       "        <td>GROCERY FOOD STORE</td>\n",
       "        <td>TRUE</td>\n",
       "        <td>FALSE</td>\n",
       "        <td>213</td>\n",
       "        <td>2</td>\n",
       "        <td>3</td>\n",
       "        <td>38</td>\n",
       "        <td>6</td>\n",
       "        <td>1180448</td>\n",
       "        <td>1879234</td>\n",
       "        <td>2005</td>\n",
       "        <td>02/28/2018 03:56:25 PM</td>\n",
       "        <td>41.82387989</td>\n",
       "        <td>-87.61350386</td>\n",
       "        <td>(41.823879885, -87.613503857)</td>\n",
       "    </tr>\n",
       "    <tr>\n",
       "        <td>3778925</td>\n",
       "        <td>HL149610</td>\n",
       "        <td>01/28/2005 05:00:00 PM</td>\n",
       "        <td>100XX S WASHTENAW AVE</td>\n",
       "        <td>810</td>\n",
       "        <td>THEFT</td>\n",
       "        <td>OVER $500</td>\n",
       "        <td>STREET</td>\n",
       "        <td>FALSE</td>\n",
       "        <td>FALSE</td>\n",
       "        <td>2211</td>\n",
       "        <td>22</td>\n",
       "        <td>19</td>\n",
       "        <td>72</td>\n",
       "        <td>6</td>\n",
       "        <td>1160129</td>\n",
       "        <td>1838040</td>\n",
       "        <td>2005</td>\n",
       "        <td>02/28/2018 03:56:25 PM</td>\n",
       "        <td>41.71128051</td>\n",
       "        <td>-87.68917910</td>\n",
       "        <td>(41.711280513, -87.689179097)</td>\n",
       "    </tr>\n",
       "    <tr>\n",
       "        <td>3324217</td>\n",
       "        <td>HK361551</td>\n",
       "        <td>05/13/2004 02:15:00 PM</td>\n",
       "        <td>033XX W BELMONT AVE</td>\n",
       "        <td>820</td>\n",
       "        <td>THEFT</td>\n",
       "        <td>$500 AND UNDER</td>\n",
       "        <td>SMALL RETAIL STORE</td>\n",
       "        <td>FALSE</td>\n",
       "        <td>FALSE</td>\n",
       "        <td>1733</td>\n",
       "        <td>17</td>\n",
       "        <td>35</td>\n",
       "        <td>21</td>\n",
       "        <td>6</td>\n",
       "        <td>1153590</td>\n",
       "        <td>1921084</td>\n",
       "        <td>2004</td>\n",
       "        <td>02/28/2018 03:56:25 PM</td>\n",
       "        <td>41.93929582</td>\n",
       "        <td>-87.71092344</td>\n",
       "        <td>(41.939295821, -87.710923442)</td>\n",
       "    </tr>\n",
       "</table>"
      ],
      "text/plain": [
       "[(3512276, 'HK587712', '08/28/2004 05:50:56 PM', '047XX S KEDZIE AVE', '890', 'THEFT', 'FROM BUILDING', 'SMALL RETAIL STORE', 'FALSE', 'FALSE', 911, 9, 14, 58, '6', 1155838, 1873050, 2004, '02/10/2018 03:50:01 PM', Decimal('41.80744050'), Decimal('-87.70395585'), '(41.8074405, -87.703955849)'),\n",
       " (3406613, 'HK456306', '06/26/2004 12:40:00 PM', '009XX N CENTRAL PARK AVE', '820', 'THEFT', '$500 AND UNDER', 'OTHER', 'FALSE', 'FALSE', 1112, 11, 27, 23, '6', 1152206, 1906127, 2004, '02/28/2018 03:56:25 PM', Decimal('41.89827996'), Decimal('-87.71640551'), '(41.898279962, -87.716405505)'),\n",
       " (8002131, 'HT233595', '04/04/2011 05:45:00 AM', '043XX S WABASH AVE', '820', 'THEFT', '$500 AND UNDER', 'NURSING HOME/RETIREMENT HOME', 'FALSE', 'FALSE', 221, 2, 3, 38, '6', 1177436, 1876313, 2011, '02/10/2018 03:50:01 PM', Decimal('41.81593313'), Decimal('-87.62464213'), '(41.815933131, -87.624642127)'),\n",
       " (7903289, 'HT133522', '12/30/2010 04:30:00 PM', '083XX S KINGSTON AVE', '840', 'THEFT', 'FINANCIAL ID THEFT: OVER $300', 'RESIDENCE', 'FALSE', 'FALSE', 423, 4, 7, 46, '6', 1194622, 1850125, 2010, '02/10/2018 03:50:01 PM', Decimal('41.74366532'), Decimal('-87.56246276'), '(41.743665322, -87.562462756)'),\n",
       " (10402076, 'HZ138551', '02/02/2016 07:30:00 PM', '033XX W 66TH ST', '820', 'THEFT', '$500 AND UNDER', 'ALLEY', 'FALSE', 'FALSE', 831, 8, 15, 66, '6', 1155240, 1860661, 2016, '02/10/2018 03:50:01 PM', Decimal('41.77345530'), Decimal('-87.70648047'), '(41.773455295, -87.706480471)'),\n",
       " (7732712, 'HS540106', '09/29/2010 07:59:00 AM', '006XX W CHICAGO AVE', '810', 'THEFT', 'OVER $500', 'PARKING LOT/GARAGE(NON.RESID.)', 'FALSE', 'FALSE', 1323, 12, 27, 24, '6', 1171668, 1905607, 2010, '02/10/2018 03:50:01 PM', Decimal('41.89644677'), Decimal('-87.64493868'), '(41.896446772, -87.644938678)'),\n",
       " (10769475, 'HZ534771', '11/30/2016 01:15:00 AM', '050XX N KEDZIE AVE', '810', 'THEFT', 'OVER $500', 'STREET', 'FALSE', 'FALSE', 1713, 17, 33, 14, '6', 1154133, 1933314, 2016, '02/10/2018 03:50:01 PM', Decimal('41.97284491'), Decimal('-87.70860008'), '(41.972844913, -87.708600079)'),\n",
       " (4494340, 'HL793243', '12/16/2005 04:45:00 PM', '005XX E PERSHING RD', '860', 'THEFT', 'RETAIL THEFT', 'GROCERY FOOD STORE', 'TRUE', 'FALSE', 213, 2, 3, 38, '6', 1180448, 1879234, 2005, '02/28/2018 03:56:25 PM', Decimal('41.82387989'), Decimal('-87.61350386'), '(41.823879885, -87.613503857)'),\n",
       " (3778925, 'HL149610', '01/28/2005 05:00:00 PM', '100XX S WASHTENAW AVE', '810', 'THEFT', 'OVER $500', 'STREET', 'FALSE', 'FALSE', 2211, 22, 19, 72, '6', 1160129, 1838040, 2005, '02/28/2018 03:56:25 PM', Decimal('41.71128051'), Decimal('-87.68917910'), '(41.711280513, -87.689179097)'),\n",
       " (3324217, 'HK361551', '05/13/2004 02:15:00 PM', '033XX W BELMONT AVE', '820', 'THEFT', '$500 AND UNDER', 'SMALL RETAIL STORE', 'FALSE', 'FALSE', 1733, 17, 35, 21, '6', 1153590, 1921084, 2004, '02/28/2018 03:56:25 PM', Decimal('41.93929582'), Decimal('-87.71092344'), '(41.939295821, -87.710923442)')]"
      ]
     },
     "execution_count": 31,
     "metadata": {},
     "output_type": "execute_result"
    }
   ],
   "source": [
    "# Q2\n",
    "%sql select * from CHICAGO_CRIME_DATA LIMIT 10;\n",
    "\n",
    "# Alternate query\n",
    "%sql select * from CHICAGO_CRIME_DATA FETCH FIRST 10 ROWS ONLY;"
   ]
  },
  {
   "cell_type": "code",
   "execution_count": null,
   "metadata": {},
   "outputs": [],
   "source": []
  },
  {
   "cell_type": "code",
   "execution_count": 42,
   "metadata": {},
   "outputs": [],
   "source": [
    "sqlQ2 = \"select * from CHICAGO_CRIME_DATA LIMIT 10\""
   ]
  },
  {
   "cell_type": "code",
   "execution_count": 43,
   "metadata": {},
   "outputs": [],
   "source": [
    "\n",
    "df_Q2 = pd.read_sql_query(sqlQ2,pconn)"
   ]
  },
  {
   "cell_type": "code",
   "execution_count": 44,
   "metadata": {},
   "outputs": [
    {
     "data": {
      "text/html": [
       "<div>\n",
       "<style scoped>\n",
       "    .dataframe tbody tr th:only-of-type {\n",
       "        vertical-align: middle;\n",
       "    }\n",
       "\n",
       "    .dataframe tbody tr th {\n",
       "        vertical-align: top;\n",
       "    }\n",
       "\n",
       "    .dataframe thead th {\n",
       "        text-align: right;\n",
       "    }\n",
       "</style>\n",
       "<table border=\"1\" class=\"dataframe\">\n",
       "  <thead>\n",
       "    <tr style=\"text-align: right;\">\n",
       "      <th></th>\n",
       "      <th>ID</th>\n",
       "      <th>CASE_NUMBER</th>\n",
       "      <th>DATE</th>\n",
       "      <th>BLOCK</th>\n",
       "      <th>IUCR</th>\n",
       "      <th>PRIMARY_TYPE</th>\n",
       "      <th>DESCRIPTION</th>\n",
       "      <th>LOCATION_DESCRIPTION</th>\n",
       "      <th>ARREST</th>\n",
       "      <th>DOMESTIC</th>\n",
       "      <th>...</th>\n",
       "      <th>WARD</th>\n",
       "      <th>COMMUNITY_AREA_NUMBER</th>\n",
       "      <th>FBICODE</th>\n",
       "      <th>X_COORDINATE</th>\n",
       "      <th>Y_COORDINATE</th>\n",
       "      <th>YEAR</th>\n",
       "      <th>UPDATEDON</th>\n",
       "      <th>LATITUDE</th>\n",
       "      <th>LONGITUDE</th>\n",
       "      <th>LOCATION</th>\n",
       "    </tr>\n",
       "  </thead>\n",
       "  <tbody>\n",
       "    <tr>\n",
       "      <th>0</th>\n",
       "      <td>3512276</td>\n",
       "      <td>HK587712</td>\n",
       "      <td>08/28/2004 05:50:56 PM</td>\n",
       "      <td>047XX S KEDZIE AVE</td>\n",
       "      <td>890</td>\n",
       "      <td>THEFT</td>\n",
       "      <td>FROM BUILDING</td>\n",
       "      <td>SMALL RETAIL STORE</td>\n",
       "      <td>FALSE</td>\n",
       "      <td>FALSE</td>\n",
       "      <td>...</td>\n",
       "      <td>14</td>\n",
       "      <td>58</td>\n",
       "      <td>6</td>\n",
       "      <td>1155838</td>\n",
       "      <td>1873050</td>\n",
       "      <td>2004</td>\n",
       "      <td>02/10/2018 03:50:01 PM</td>\n",
       "      <td>41.807440</td>\n",
       "      <td>-87.703956</td>\n",
       "      <td>(41.8074405, -87.703955849)</td>\n",
       "    </tr>\n",
       "    <tr>\n",
       "      <th>1</th>\n",
       "      <td>3406613</td>\n",
       "      <td>HK456306</td>\n",
       "      <td>06/26/2004 12:40:00 PM</td>\n",
       "      <td>009XX N CENTRAL PARK AVE</td>\n",
       "      <td>820</td>\n",
       "      <td>THEFT</td>\n",
       "      <td>$500 AND UNDER</td>\n",
       "      <td>OTHER</td>\n",
       "      <td>FALSE</td>\n",
       "      <td>FALSE</td>\n",
       "      <td>...</td>\n",
       "      <td>27</td>\n",
       "      <td>23</td>\n",
       "      <td>6</td>\n",
       "      <td>1152206</td>\n",
       "      <td>1906127</td>\n",
       "      <td>2004</td>\n",
       "      <td>02/28/2018 03:56:25 PM</td>\n",
       "      <td>41.898280</td>\n",
       "      <td>-87.716406</td>\n",
       "      <td>(41.898279962, -87.716405505)</td>\n",
       "    </tr>\n",
       "    <tr>\n",
       "      <th>2</th>\n",
       "      <td>8002131</td>\n",
       "      <td>HT233595</td>\n",
       "      <td>04/04/2011 05:45:00 AM</td>\n",
       "      <td>043XX S WABASH AVE</td>\n",
       "      <td>820</td>\n",
       "      <td>THEFT</td>\n",
       "      <td>$500 AND UNDER</td>\n",
       "      <td>NURSING HOME/RETIREMENT HOME</td>\n",
       "      <td>FALSE</td>\n",
       "      <td>FALSE</td>\n",
       "      <td>...</td>\n",
       "      <td>3</td>\n",
       "      <td>38</td>\n",
       "      <td>6</td>\n",
       "      <td>1177436</td>\n",
       "      <td>1876313</td>\n",
       "      <td>2011</td>\n",
       "      <td>02/10/2018 03:50:01 PM</td>\n",
       "      <td>41.815933</td>\n",
       "      <td>-87.624642</td>\n",
       "      <td>(41.815933131, -87.624642127)</td>\n",
       "    </tr>\n",
       "    <tr>\n",
       "      <th>3</th>\n",
       "      <td>7903289</td>\n",
       "      <td>HT133522</td>\n",
       "      <td>12/30/2010 04:30:00 PM</td>\n",
       "      <td>083XX S KINGSTON AVE</td>\n",
       "      <td>840</td>\n",
       "      <td>THEFT</td>\n",
       "      <td>FINANCIAL ID THEFT: OVER $300</td>\n",
       "      <td>RESIDENCE</td>\n",
       "      <td>FALSE</td>\n",
       "      <td>FALSE</td>\n",
       "      <td>...</td>\n",
       "      <td>7</td>\n",
       "      <td>46</td>\n",
       "      <td>6</td>\n",
       "      <td>1194622</td>\n",
       "      <td>1850125</td>\n",
       "      <td>2010</td>\n",
       "      <td>02/10/2018 03:50:01 PM</td>\n",
       "      <td>41.743665</td>\n",
       "      <td>-87.562463</td>\n",
       "      <td>(41.743665322, -87.562462756)</td>\n",
       "    </tr>\n",
       "    <tr>\n",
       "      <th>4</th>\n",
       "      <td>10402076</td>\n",
       "      <td>HZ138551</td>\n",
       "      <td>02/02/2016 07:30:00 PM</td>\n",
       "      <td>033XX W 66TH ST</td>\n",
       "      <td>820</td>\n",
       "      <td>THEFT</td>\n",
       "      <td>$500 AND UNDER</td>\n",
       "      <td>ALLEY</td>\n",
       "      <td>FALSE</td>\n",
       "      <td>FALSE</td>\n",
       "      <td>...</td>\n",
       "      <td>15</td>\n",
       "      <td>66</td>\n",
       "      <td>6</td>\n",
       "      <td>1155240</td>\n",
       "      <td>1860661</td>\n",
       "      <td>2016</td>\n",
       "      <td>02/10/2018 03:50:01 PM</td>\n",
       "      <td>41.773455</td>\n",
       "      <td>-87.706480</td>\n",
       "      <td>(41.773455295, -87.706480471)</td>\n",
       "    </tr>\n",
       "    <tr>\n",
       "      <th>5</th>\n",
       "      <td>7732712</td>\n",
       "      <td>HS540106</td>\n",
       "      <td>09/29/2010 07:59:00 AM</td>\n",
       "      <td>006XX W CHICAGO AVE</td>\n",
       "      <td>810</td>\n",
       "      <td>THEFT</td>\n",
       "      <td>OVER $500</td>\n",
       "      <td>PARKING LOT/GARAGE(NON.RESID.)</td>\n",
       "      <td>FALSE</td>\n",
       "      <td>FALSE</td>\n",
       "      <td>...</td>\n",
       "      <td>27</td>\n",
       "      <td>24</td>\n",
       "      <td>6</td>\n",
       "      <td>1171668</td>\n",
       "      <td>1905607</td>\n",
       "      <td>2010</td>\n",
       "      <td>02/10/2018 03:50:01 PM</td>\n",
       "      <td>41.896447</td>\n",
       "      <td>-87.644939</td>\n",
       "      <td>(41.896446772, -87.644938678)</td>\n",
       "    </tr>\n",
       "    <tr>\n",
       "      <th>6</th>\n",
       "      <td>10769475</td>\n",
       "      <td>HZ534771</td>\n",
       "      <td>11/30/2016 01:15:00 AM</td>\n",
       "      <td>050XX N KEDZIE AVE</td>\n",
       "      <td>810</td>\n",
       "      <td>THEFT</td>\n",
       "      <td>OVER $500</td>\n",
       "      <td>STREET</td>\n",
       "      <td>FALSE</td>\n",
       "      <td>FALSE</td>\n",
       "      <td>...</td>\n",
       "      <td>33</td>\n",
       "      <td>14</td>\n",
       "      <td>6</td>\n",
       "      <td>1154133</td>\n",
       "      <td>1933314</td>\n",
       "      <td>2016</td>\n",
       "      <td>02/10/2018 03:50:01 PM</td>\n",
       "      <td>41.972845</td>\n",
       "      <td>-87.708600</td>\n",
       "      <td>(41.972844913, -87.708600079)</td>\n",
       "    </tr>\n",
       "    <tr>\n",
       "      <th>7</th>\n",
       "      <td>4494340</td>\n",
       "      <td>HL793243</td>\n",
       "      <td>12/16/2005 04:45:00 PM</td>\n",
       "      <td>005XX E PERSHING RD</td>\n",
       "      <td>860</td>\n",
       "      <td>THEFT</td>\n",
       "      <td>RETAIL THEFT</td>\n",
       "      <td>GROCERY FOOD STORE</td>\n",
       "      <td>TRUE</td>\n",
       "      <td>FALSE</td>\n",
       "      <td>...</td>\n",
       "      <td>3</td>\n",
       "      <td>38</td>\n",
       "      <td>6</td>\n",
       "      <td>1180448</td>\n",
       "      <td>1879234</td>\n",
       "      <td>2005</td>\n",
       "      <td>02/28/2018 03:56:25 PM</td>\n",
       "      <td>41.823880</td>\n",
       "      <td>-87.613504</td>\n",
       "      <td>(41.823879885, -87.613503857)</td>\n",
       "    </tr>\n",
       "    <tr>\n",
       "      <th>8</th>\n",
       "      <td>3778925</td>\n",
       "      <td>HL149610</td>\n",
       "      <td>01/28/2005 05:00:00 PM</td>\n",
       "      <td>100XX S WASHTENAW AVE</td>\n",
       "      <td>810</td>\n",
       "      <td>THEFT</td>\n",
       "      <td>OVER $500</td>\n",
       "      <td>STREET</td>\n",
       "      <td>FALSE</td>\n",
       "      <td>FALSE</td>\n",
       "      <td>...</td>\n",
       "      <td>19</td>\n",
       "      <td>72</td>\n",
       "      <td>6</td>\n",
       "      <td>1160129</td>\n",
       "      <td>1838040</td>\n",
       "      <td>2005</td>\n",
       "      <td>02/28/2018 03:56:25 PM</td>\n",
       "      <td>41.711281</td>\n",
       "      <td>-87.689179</td>\n",
       "      <td>(41.711280513, -87.689179097)</td>\n",
       "    </tr>\n",
       "    <tr>\n",
       "      <th>9</th>\n",
       "      <td>3324217</td>\n",
       "      <td>HK361551</td>\n",
       "      <td>05/13/2004 02:15:00 PM</td>\n",
       "      <td>033XX W BELMONT AVE</td>\n",
       "      <td>820</td>\n",
       "      <td>THEFT</td>\n",
       "      <td>$500 AND UNDER</td>\n",
       "      <td>SMALL RETAIL STORE</td>\n",
       "      <td>FALSE</td>\n",
       "      <td>FALSE</td>\n",
       "      <td>...</td>\n",
       "      <td>35</td>\n",
       "      <td>21</td>\n",
       "      <td>6</td>\n",
       "      <td>1153590</td>\n",
       "      <td>1921084</td>\n",
       "      <td>2004</td>\n",
       "      <td>02/28/2018 03:56:25 PM</td>\n",
       "      <td>41.939296</td>\n",
       "      <td>-87.710923</td>\n",
       "      <td>(41.939295821, -87.710923442)</td>\n",
       "    </tr>\n",
       "  </tbody>\n",
       "</table>\n",
       "<p>10 rows × 22 columns</p>\n",
       "</div>"
      ],
      "text/plain": [
       "         ID CASE_NUMBER                    DATE                     BLOCK  \\\n",
       "0   3512276    HK587712  08/28/2004 05:50:56 PM        047XX S KEDZIE AVE   \n",
       "1   3406613    HK456306  06/26/2004 12:40:00 PM  009XX N CENTRAL PARK AVE   \n",
       "2   8002131    HT233595  04/04/2011 05:45:00 AM        043XX S WABASH AVE   \n",
       "3   7903289    HT133522  12/30/2010 04:30:00 PM      083XX S KINGSTON AVE   \n",
       "4  10402076    HZ138551  02/02/2016 07:30:00 PM           033XX W 66TH ST   \n",
       "5   7732712    HS540106  09/29/2010 07:59:00 AM       006XX W CHICAGO AVE   \n",
       "6  10769475    HZ534771  11/30/2016 01:15:00 AM        050XX N KEDZIE AVE   \n",
       "7   4494340    HL793243  12/16/2005 04:45:00 PM       005XX E PERSHING RD   \n",
       "8   3778925    HL149610  01/28/2005 05:00:00 PM     100XX S WASHTENAW AVE   \n",
       "9   3324217    HK361551  05/13/2004 02:15:00 PM       033XX W BELMONT AVE   \n",
       "\n",
       "  IUCR PRIMARY_TYPE                    DESCRIPTION  \\\n",
       "0  890        THEFT                  FROM BUILDING   \n",
       "1  820        THEFT                 $500 AND UNDER   \n",
       "2  820        THEFT                 $500 AND UNDER   \n",
       "3  840        THEFT  FINANCIAL ID THEFT: OVER $300   \n",
       "4  820        THEFT                 $500 AND UNDER   \n",
       "5  810        THEFT                      OVER $500   \n",
       "6  810        THEFT                      OVER $500   \n",
       "7  860        THEFT                   RETAIL THEFT   \n",
       "8  810        THEFT                      OVER $500   \n",
       "9  820        THEFT                 $500 AND UNDER   \n",
       "\n",
       "             LOCATION_DESCRIPTION ARREST DOMESTIC  ...  WARD  \\\n",
       "0              SMALL RETAIL STORE  FALSE    FALSE  ...    14   \n",
       "1                           OTHER  FALSE    FALSE  ...    27   \n",
       "2    NURSING HOME/RETIREMENT HOME  FALSE    FALSE  ...     3   \n",
       "3                       RESIDENCE  FALSE    FALSE  ...     7   \n",
       "4                           ALLEY  FALSE    FALSE  ...    15   \n",
       "5  PARKING LOT/GARAGE(NON.RESID.)  FALSE    FALSE  ...    27   \n",
       "6                          STREET  FALSE    FALSE  ...    33   \n",
       "7              GROCERY FOOD STORE   TRUE    FALSE  ...     3   \n",
       "8                          STREET  FALSE    FALSE  ...    19   \n",
       "9              SMALL RETAIL STORE  FALSE    FALSE  ...    35   \n",
       "\n",
       "   COMMUNITY_AREA_NUMBER  FBICODE  X_COORDINATE Y_COORDINATE  YEAR  \\\n",
       "0                     58        6       1155838      1873050  2004   \n",
       "1                     23        6       1152206      1906127  2004   \n",
       "2                     38        6       1177436      1876313  2011   \n",
       "3                     46        6       1194622      1850125  2010   \n",
       "4                     66        6       1155240      1860661  2016   \n",
       "5                     24        6       1171668      1905607  2010   \n",
       "6                     14        6       1154133      1933314  2016   \n",
       "7                     38        6       1180448      1879234  2005   \n",
       "8                     72        6       1160129      1838040  2005   \n",
       "9                     21        6       1153590      1921084  2004   \n",
       "\n",
       "                UPDATEDON   LATITUDE  LONGITUDE                       LOCATION  \n",
       "0  02/10/2018 03:50:01 PM  41.807440 -87.703956    (41.8074405, -87.703955849)  \n",
       "1  02/28/2018 03:56:25 PM  41.898280 -87.716406  (41.898279962, -87.716405505)  \n",
       "2  02/10/2018 03:50:01 PM  41.815933 -87.624642  (41.815933131, -87.624642127)  \n",
       "3  02/10/2018 03:50:01 PM  41.743665 -87.562463  (41.743665322, -87.562462756)  \n",
       "4  02/10/2018 03:50:01 PM  41.773455 -87.706480  (41.773455295, -87.706480471)  \n",
       "5  02/10/2018 03:50:01 PM  41.896447 -87.644939  (41.896446772, -87.644938678)  \n",
       "6  02/10/2018 03:50:01 PM  41.972845 -87.708600  (41.972844913, -87.708600079)  \n",
       "7  02/28/2018 03:56:25 PM  41.823880 -87.613504  (41.823879885, -87.613503857)  \n",
       "8  02/28/2018 03:56:25 PM  41.711281 -87.689179  (41.711280513, -87.689179097)  \n",
       "9  02/28/2018 03:56:25 PM  41.939296 -87.710923  (41.939295821, -87.710923442)  \n",
       "\n",
       "[10 rows x 22 columns]"
      ]
     },
     "execution_count": 44,
     "metadata": {},
     "output_type": "execute_result"
    }
   ],
   "source": [
    "df_Q2"
   ]
  },
  {
   "cell_type": "markdown",
   "metadata": {},
   "source": [
    "### Q3 How many crimes involve an arrest."
   ]
  },
  {
   "cell_type": "code",
   "execution_count": 12,
   "metadata": {},
   "outputs": [
    {
     "name": "stdout",
     "output_type": "stream",
     "text": [
      " * ibm_db_sa://gsv42017:***@dashdb-txn-sbox-yp-dal09-03.services.dal.bluemix.net:50000/BLUDB\n",
      "Done.\n"
     ]
    },
    {
     "data": {
      "text/html": [
       "<table>\n",
       "    <tr>\n",
       "        <th>1</th>\n",
       "    </tr>\n",
       "    <tr>\n",
       "        <td>163</td>\n",
       "    </tr>\n",
       "</table>"
      ],
      "text/plain": [
       "[(Decimal('163'),)]"
      ]
     },
     "execution_count": 12,
     "metadata": {},
     "output_type": "execute_result"
    }
   ],
   "source": [
    "#Q3 \n",
    "%sql select count(case_number) from CHICAGO_CRIME_DATA WHERE arrest = True"
   ]
  },
  {
   "cell_type": "code",
   "execution_count": 45,
   "metadata": {},
   "outputs": [],
   "source": [
    "sqlQ3 = \"select count(case_number) from CHICAGO_CRIME_DATA WHERE arrest = True\""
   ]
  },
  {
   "cell_type": "code",
   "execution_count": 46,
   "metadata": {},
   "outputs": [],
   "source": [
    "df_Q3 = pd.read_sql_query(sqlQ3,pconn)"
   ]
  },
  {
   "cell_type": "code",
   "execution_count": 47,
   "metadata": {},
   "outputs": [
    {
     "data": {
      "text/html": [
       "<div>\n",
       "<style scoped>\n",
       "    .dataframe tbody tr th:only-of-type {\n",
       "        vertical-align: middle;\n",
       "    }\n",
       "\n",
       "    .dataframe tbody tr th {\n",
       "        vertical-align: top;\n",
       "    }\n",
       "\n",
       "    .dataframe thead th {\n",
       "        text-align: right;\n",
       "    }\n",
       "</style>\n",
       "<table border=\"1\" class=\"dataframe\">\n",
       "  <thead>\n",
       "    <tr style=\"text-align: right;\">\n",
       "      <th></th>\n",
       "      <th>1</th>\n",
       "    </tr>\n",
       "  </thead>\n",
       "  <tbody>\n",
       "    <tr>\n",
       "      <th>0</th>\n",
       "      <td>163.0</td>\n",
       "    </tr>\n",
       "  </tbody>\n",
       "</table>\n",
       "</div>"
      ],
      "text/plain": [
       "       1\n",
       "0  163.0"
      ]
     },
     "execution_count": 47,
     "metadata": {},
     "output_type": "execute_result"
    }
   ],
   "source": [
    "\n",
    "df_Q3"
   ]
  },
  {
   "cell_type": "markdown",
   "metadata": {},
   "source": [
    "Q3 - Cross-checking in pandas"
   ]
  },
  {
   "cell_type": "code",
   "execution_count": null,
   "metadata": {},
   "outputs": [],
   "source": []
  },
  {
   "cell_type": "code",
   "execution_count": 80,
   "metadata": {},
   "outputs": [
    {
     "data": {
      "text/plain": [
       "FALSE    370\n",
       "TRUE     163\n",
       "Name: ARREST, dtype: int64"
      ]
     },
     "execution_count": 80,
     "metadata": {},
     "output_type": "execute_result"
    }
   ],
   "source": [
    "df_crime[df_crime['ARREST'] == \"TRUE\"].count()\n",
    "df_crime['ARREST'].value_counts()"
   ]
  },
  {
   "cell_type": "markdown",
   "metadata": {},
   "source": [
    "### Q4. Which unique types of crimes (e.g. THEFT) have been recorded at a GAS STATION locations?"
   ]
  },
  {
   "cell_type": "code",
   "execution_count": 14,
   "metadata": {},
   "outputs": [
    {
     "name": "stdout",
     "output_type": "stream",
     "text": [
      " * ibm_db_sa://gsv42017:***@dashdb-txn-sbox-yp-dal09-03.services.dal.bluemix.net:50000/BLUDB\n",
      "Done.\n"
     ]
    },
    {
     "data": {
      "text/html": [
       "<table>\n",
       "    <tr>\n",
       "        <th>primary_type</th>\n",
       "    </tr>\n",
       "    <tr>\n",
       "        <td>CRIMINAL TRESPASS</td>\n",
       "    </tr>\n",
       "    <tr>\n",
       "        <td>NARCOTICS</td>\n",
       "    </tr>\n",
       "    <tr>\n",
       "        <td>ROBBERY</td>\n",
       "    </tr>\n",
       "    <tr>\n",
       "        <td>THEFT</td>\n",
       "    </tr>\n",
       "</table>"
      ],
      "text/plain": [
       "[('CRIMINAL TRESPASS',), ('NARCOTICS',), ('ROBBERY',), ('THEFT',)]"
      ]
     },
     "execution_count": 14,
     "metadata": {},
     "output_type": "execute_result"
    }
   ],
   "source": [
    "# Q4\n",
    "%sql select distinct primary_type from CHICAGO_CRIME_DATA \\\n",
    "where lower(location_description) like 'gas%';"
   ]
  },
  {
   "cell_type": "code",
   "execution_count": 163,
   "metadata": {},
   "outputs": [],
   "source": [
    "sqlQ4 = \"select distinct primary_type from CHICAGO_CRIME_DATA where lower(location_description) like 'gas%'\""
   ]
  },
  {
   "cell_type": "code",
   "execution_count": 164,
   "metadata": {},
   "outputs": [],
   "source": [
    "df_Q4 = pd.read_sql_query(sqlQ4,pconn)"
   ]
  },
  {
   "cell_type": "code",
   "execution_count": 165,
   "metadata": {},
   "outputs": [
    {
     "data": {
      "text/html": [
       "<div>\n",
       "<style scoped>\n",
       "    .dataframe tbody tr th:only-of-type {\n",
       "        vertical-align: middle;\n",
       "    }\n",
       "\n",
       "    .dataframe tbody tr th {\n",
       "        vertical-align: top;\n",
       "    }\n",
       "\n",
       "    .dataframe thead th {\n",
       "        text-align: right;\n",
       "    }\n",
       "</style>\n",
       "<table border=\"1\" class=\"dataframe\">\n",
       "  <thead>\n",
       "    <tr style=\"text-align: right;\">\n",
       "      <th></th>\n",
       "      <th>PRIMARY_TYPE</th>\n",
       "    </tr>\n",
       "  </thead>\n",
       "  <tbody>\n",
       "    <tr>\n",
       "      <th>0</th>\n",
       "      <td>CRIMINAL TRESPASS</td>\n",
       "    </tr>\n",
       "    <tr>\n",
       "      <th>1</th>\n",
       "      <td>NARCOTICS</td>\n",
       "    </tr>\n",
       "    <tr>\n",
       "      <th>2</th>\n",
       "      <td>ROBBERY</td>\n",
       "    </tr>\n",
       "    <tr>\n",
       "      <th>3</th>\n",
       "      <td>THEFT</td>\n",
       "    </tr>\n",
       "  </tbody>\n",
       "</table>\n",
       "</div>"
      ],
      "text/plain": [
       "        PRIMARY_TYPE\n",
       "0  CRIMINAL TRESPASS\n",
       "1          NARCOTICS\n",
       "2            ROBBERY\n",
       "3              THEFT"
      ]
     },
     "execution_count": 165,
     "metadata": {},
     "output_type": "execute_result"
    }
   ],
   "source": [
    "\n",
    "df_Q4"
   ]
  },
  {
   "cell_type": "code",
   "execution_count": 142,
   "metadata": {},
   "outputs": [],
   "source": [
    "# verifying from pandas -- Q4\n"
   ]
  },
  {
   "cell_type": "code",
   "execution_count": 120,
   "metadata": {},
   "outputs": [],
   "source": [
    "import re\n",
    "pattern = re.compile(\"gas\",flags=re.IGNORECASE)"
   ]
  },
  {
   "cell_type": "code",
   "execution_count": 155,
   "metadata": {},
   "outputs": [],
   "source": [
    "df_crime_type = df_crime[df_crime['LOCATION_DESCRIPTION'].str.contains(pattern) == True]"
   ]
  },
  {
   "cell_type": "code",
   "execution_count": 156,
   "metadata": {},
   "outputs": [
    {
     "data": {
      "text/html": [
       "<div>\n",
       "<style scoped>\n",
       "    .dataframe tbody tr th:only-of-type {\n",
       "        vertical-align: middle;\n",
       "    }\n",
       "\n",
       "    .dataframe tbody tr th {\n",
       "        vertical-align: top;\n",
       "    }\n",
       "\n",
       "    .dataframe thead th {\n",
       "        text-align: right;\n",
       "    }\n",
       "</style>\n",
       "<table border=\"1\" class=\"dataframe\">\n",
       "  <thead>\n",
       "    <tr style=\"text-align: right;\">\n",
       "      <th></th>\n",
       "      <th>ID</th>\n",
       "      <th>CASE_NUMBER</th>\n",
       "      <th>DATE</th>\n",
       "      <th>BLOCK</th>\n",
       "      <th>IUCR</th>\n",
       "      <th>PRIMARY_TYPE</th>\n",
       "      <th>DESCRIPTION</th>\n",
       "      <th>LOCATION_DESCRIPTION</th>\n",
       "      <th>ARREST</th>\n",
       "      <th>DOMESTIC</th>\n",
       "      <th>...</th>\n",
       "      <th>WARD</th>\n",
       "      <th>COMMUNITY_AREA_NUMBER</th>\n",
       "      <th>FBICODE</th>\n",
       "      <th>X_COORDINATE</th>\n",
       "      <th>Y_COORDINATE</th>\n",
       "      <th>YEAR</th>\n",
       "      <th>UPDATEDON</th>\n",
       "      <th>LATITUDE</th>\n",
       "      <th>LONGITUDE</th>\n",
       "      <th>LOCATION</th>\n",
       "    </tr>\n",
       "  </thead>\n",
       "  <tbody>\n",
       "    <tr>\n",
       "      <th>69</th>\n",
       "      <td>7505841</td>\n",
       "      <td>HS308747</td>\n",
       "      <td>05/15/2010 09:15:00 AM</td>\n",
       "      <td>004XX E 95TH ST</td>\n",
       "      <td>890</td>\n",
       "      <td>THEFT</td>\n",
       "      <td>FROM BUILDING</td>\n",
       "      <td>GAS STATION</td>\n",
       "      <td>FALSE</td>\n",
       "      <td>FALSE</td>\n",
       "      <td>...</td>\n",
       "      <td>9.0</td>\n",
       "      <td>49.0</td>\n",
       "      <td>6</td>\n",
       "      <td>1180667.0</td>\n",
       "      <td>1842071.0</td>\n",
       "      <td>2010</td>\n",
       "      <td>02/10/2018 03:50:01 PM</td>\n",
       "      <td>41.721896</td>\n",
       "      <td>-87.613841</td>\n",
       "      <td>(41.721895856, -87.613841024)</td>\n",
       "    </tr>\n",
       "    <tr>\n",
       "      <th>71</th>\n",
       "      <td>4153041</td>\n",
       "      <td>HL005270</td>\n",
       "      <td>07/12/2005 11:00:00 PM</td>\n",
       "      <td>008XX N CICERO AVE</td>\n",
       "      <td>820</td>\n",
       "      <td>THEFT</td>\n",
       "      <td>$500 AND UNDER</td>\n",
       "      <td>GAS STATION</td>\n",
       "      <td>FALSE</td>\n",
       "      <td>FALSE</td>\n",
       "      <td>...</td>\n",
       "      <td>37.0</td>\n",
       "      <td>25.0</td>\n",
       "      <td>6</td>\n",
       "      <td>1144207.0</td>\n",
       "      <td>1904963.0</td>\n",
       "      <td>2005</td>\n",
       "      <td>02/10/2018 03:50:01 PM</td>\n",
       "      <td>41.895240</td>\n",
       "      <td>-87.745815</td>\n",
       "      <td>(41.895239896, -87.745814792)</td>\n",
       "    </tr>\n",
       "    <tr>\n",
       "      <th>288</th>\n",
       "      <td>5844831</td>\n",
       "      <td>HN647052</td>\n",
       "      <td>10/14/2007 04:31:26 AM</td>\n",
       "      <td>062XX S DREXEL AVE</td>\n",
       "      <td>1811</td>\n",
       "      <td>NARCOTICS</td>\n",
       "      <td>POSS: CANNABIS 30GMS OR LESS</td>\n",
       "      <td>GAS STATION</td>\n",
       "      <td>TRUE</td>\n",
       "      <td>FALSE</td>\n",
       "      <td>...</td>\n",
       "      <td>20.0</td>\n",
       "      <td>42.0</td>\n",
       "      <td>18</td>\n",
       "      <td>1183081.0</td>\n",
       "      <td>1863726.0</td>\n",
       "      <td>2007</td>\n",
       "      <td>02/28/2018 03:56:25 PM</td>\n",
       "      <td>41.781264</td>\n",
       "      <td>-87.604327</td>\n",
       "      <td>(41.781263748, -87.60432695)</td>\n",
       "    </tr>\n",
       "    <tr>\n",
       "      <th>459</th>\n",
       "      <td>3046354</td>\n",
       "      <td>HJ753917</td>\n",
       "      <td>11/12/2003 01:40:00 AM</td>\n",
       "      <td>052XX W ADDISON ST</td>\n",
       "      <td>031A</td>\n",
       "      <td>ROBBERY</td>\n",
       "      <td>ARMED: HANDGUN</td>\n",
       "      <td>GAS STATION</td>\n",
       "      <td>FALSE</td>\n",
       "      <td>FALSE</td>\n",
       "      <td>...</td>\n",
       "      <td>38.0</td>\n",
       "      <td>15.0</td>\n",
       "      <td>3</td>\n",
       "      <td>1140892.0</td>\n",
       "      <td>1923436.0</td>\n",
       "      <td>2003</td>\n",
       "      <td>02/28/2018 03:56:25 PM</td>\n",
       "      <td>41.945993</td>\n",
       "      <td>-87.757535</td>\n",
       "      <td>(41.945993442, -87.757534561)</td>\n",
       "    </tr>\n",
       "    <tr>\n",
       "      <th>463</th>\n",
       "      <td>8875058</td>\n",
       "      <td>HV548880</td>\n",
       "      <td>11/05/2012 11:15:00 AM</td>\n",
       "      <td>067XX S STATE ST</td>\n",
       "      <td>330</td>\n",
       "      <td>ROBBERY</td>\n",
       "      <td>AGGRAVATED</td>\n",
       "      <td>GAS STATION</td>\n",
       "      <td>FALSE</td>\n",
       "      <td>FALSE</td>\n",
       "      <td>...</td>\n",
       "      <td>6.0</td>\n",
       "      <td>69.0</td>\n",
       "      <td>3</td>\n",
       "      <td>1177438.0</td>\n",
       "      <td>1860407.0</td>\n",
       "      <td>2012</td>\n",
       "      <td>02/10/2018 03:50:01 PM</td>\n",
       "      <td>41.772285</td>\n",
       "      <td>-87.625115</td>\n",
       "      <td>(41.772285481, -87.625115462)</td>\n",
       "    </tr>\n",
       "    <tr>\n",
       "      <th>474</th>\n",
       "      <td>5827212</td>\n",
       "      <td>HN637742</td>\n",
       "      <td>10/09/2007 12:20:00 PM</td>\n",
       "      <td>025XX N PULASKI RD</td>\n",
       "      <td>1330</td>\n",
       "      <td>CRIMINAL TRESPASS</td>\n",
       "      <td>TO LAND</td>\n",
       "      <td>GAS STATION</td>\n",
       "      <td>TRUE</td>\n",
       "      <td>FALSE</td>\n",
       "      <td>...</td>\n",
       "      <td>31.0</td>\n",
       "      <td>22.0</td>\n",
       "      <td>26</td>\n",
       "      <td>1149288.0</td>\n",
       "      <td>1916658.0</td>\n",
       "      <td>2007</td>\n",
       "      <td>02/28/2018 03:56:25 PM</td>\n",
       "      <td>41.927235</td>\n",
       "      <td>-87.726850</td>\n",
       "      <td>(41.927235118, -87.726849666)</td>\n",
       "    </tr>\n",
       "  </tbody>\n",
       "</table>\n",
       "<p>6 rows × 22 columns</p>\n",
       "</div>"
      ],
      "text/plain": [
       "          ID CASE_NUMBER                    DATE               BLOCK  IUCR  \\\n",
       "69   7505841    HS308747  05/15/2010 09:15:00 AM     004XX E 95TH ST   890   \n",
       "71   4153041    HL005270  07/12/2005 11:00:00 PM  008XX N CICERO AVE   820   \n",
       "288  5844831    HN647052  10/14/2007 04:31:26 AM  062XX S DREXEL AVE  1811   \n",
       "459  3046354    HJ753917  11/12/2003 01:40:00 AM  052XX W ADDISON ST  031A   \n",
       "463  8875058    HV548880  11/05/2012 11:15:00 AM    067XX S STATE ST   330   \n",
       "474  5827212    HN637742  10/09/2007 12:20:00 PM  025XX N PULASKI RD  1330   \n",
       "\n",
       "          PRIMARY_TYPE                   DESCRIPTION LOCATION_DESCRIPTION  \\\n",
       "69               THEFT                 FROM BUILDING          GAS STATION   \n",
       "71               THEFT                $500 AND UNDER          GAS STATION   \n",
       "288          NARCOTICS  POSS: CANNABIS 30GMS OR LESS          GAS STATION   \n",
       "459            ROBBERY                ARMED: HANDGUN          GAS STATION   \n",
       "463            ROBBERY                    AGGRAVATED          GAS STATION   \n",
       "474  CRIMINAL TRESPASS                       TO LAND          GAS STATION   \n",
       "\n",
       "    ARREST DOMESTIC  ...  WARD  COMMUNITY_AREA_NUMBER  FBICODE  X_COORDINATE  \\\n",
       "69   FALSE    FALSE  ...   9.0                   49.0        6     1180667.0   \n",
       "71   FALSE    FALSE  ...  37.0                   25.0        6     1144207.0   \n",
       "288   TRUE    FALSE  ...  20.0                   42.0       18     1183081.0   \n",
       "459  FALSE    FALSE  ...  38.0                   15.0        3     1140892.0   \n",
       "463  FALSE    FALSE  ...   6.0                   69.0        3     1177438.0   \n",
       "474   TRUE    FALSE  ...  31.0                   22.0       26     1149288.0   \n",
       "\n",
       "    Y_COORDINATE  YEAR               UPDATEDON   LATITUDE  LONGITUDE  \\\n",
       "69     1842071.0  2010  02/10/2018 03:50:01 PM  41.721896 -87.613841   \n",
       "71     1904963.0  2005  02/10/2018 03:50:01 PM  41.895240 -87.745815   \n",
       "288    1863726.0  2007  02/28/2018 03:56:25 PM  41.781264 -87.604327   \n",
       "459    1923436.0  2003  02/28/2018 03:56:25 PM  41.945993 -87.757535   \n",
       "463    1860407.0  2012  02/10/2018 03:50:01 PM  41.772285 -87.625115   \n",
       "474    1916658.0  2007  02/28/2018 03:56:25 PM  41.927235 -87.726850   \n",
       "\n",
       "                          LOCATION  \n",
       "69   (41.721895856, -87.613841024)  \n",
       "71   (41.895239896, -87.745814792)  \n",
       "288   (41.781263748, -87.60432695)  \n",
       "459  (41.945993442, -87.757534561)  \n",
       "463  (41.772285481, -87.625115462)  \n",
       "474  (41.927235118, -87.726849666)  \n",
       "\n",
       "[6 rows x 22 columns]"
      ]
     },
     "execution_count": 156,
     "metadata": {},
     "output_type": "execute_result"
    }
   ],
   "source": [
    "df_crime_type"
   ]
  },
  {
   "cell_type": "code",
   "execution_count": 131,
   "metadata": {},
   "outputs": [
    {
     "data": {
      "text/plain": [
       "4"
      ]
     },
     "execution_count": 131,
     "metadata": {},
     "output_type": "execute_result"
    }
   ],
   "source": [
    "df_crime_type['PRIMARY_TYPE'].nunique()"
   ]
  },
  {
   "cell_type": "markdown",
   "metadata": {},
   "source": [
    "### Q5. In the CENUS_DATA table list all community areas whose names start with the letter ‘B’."
   ]
  },
  {
   "cell_type": "code",
   "execution_count": 15,
   "metadata": {},
   "outputs": [
    {
     "name": "stdout",
     "output_type": "stream",
     "text": [
      " * ibm_db_sa://gsv42017:***@dashdb-txn-sbox-yp-dal09-03.services.dal.bluemix.net:50000/BLUDB\n",
      "Done.\n"
     ]
    },
    {
     "data": {
      "text/html": [
       "<table>\n",
       "    <tr>\n",
       "        <th>community_area_name</th>\n",
       "    </tr>\n",
       "    <tr>\n",
       "        <td>Belmont Cragin</td>\n",
       "    </tr>\n",
       "    <tr>\n",
       "        <td>Burnside</td>\n",
       "    </tr>\n",
       "    <tr>\n",
       "        <td>Brighton Park</td>\n",
       "    </tr>\n",
       "    <tr>\n",
       "        <td>Bridgeport</td>\n",
       "    </tr>\n",
       "    <tr>\n",
       "        <td>Beverly</td>\n",
       "    </tr>\n",
       "</table>"
      ],
      "text/plain": [
       "[('Belmont Cragin',),\n",
       " ('Burnside',),\n",
       " ('Brighton Park',),\n",
       " ('Bridgeport',),\n",
       " ('Beverly',)]"
      ]
     },
     "execution_count": 15,
     "metadata": {},
     "output_type": "execute_result"
    }
   ],
   "source": [
    "#Q5\n",
    "\n",
    "%sql select COMMUNITY_AREA_NAME from CENSUS_DATA where upper(COMMUNITY_AREA_NAME) like 'B%';"
   ]
  },
  {
   "cell_type": "code",
   "execution_count": 167,
   "metadata": {},
   "outputs": [],
   "source": [
    "sqlQ5 = \"select COMMUNITY_AREA_NAME from CENSUS_DATA where upper(COMMUNITY_AREA_NAME) like 'B%'\""
   ]
  },
  {
   "cell_type": "code",
   "execution_count": 168,
   "metadata": {},
   "outputs": [],
   "source": [
    "df_Q5 = pd.read_sql_query(sqlQ5,pconn)"
   ]
  },
  {
   "cell_type": "code",
   "execution_count": 169,
   "metadata": {},
   "outputs": [
    {
     "data": {
      "text/html": [
       "<div>\n",
       "<style scoped>\n",
       "    .dataframe tbody tr th:only-of-type {\n",
       "        vertical-align: middle;\n",
       "    }\n",
       "\n",
       "    .dataframe tbody tr th {\n",
       "        vertical-align: top;\n",
       "    }\n",
       "\n",
       "    .dataframe thead th {\n",
       "        text-align: right;\n",
       "    }\n",
       "</style>\n",
       "<table border=\"1\" class=\"dataframe\">\n",
       "  <thead>\n",
       "    <tr style=\"text-align: right;\">\n",
       "      <th></th>\n",
       "      <th>COMMUNITY_AREA_NAME</th>\n",
       "    </tr>\n",
       "  </thead>\n",
       "  <tbody>\n",
       "    <tr>\n",
       "      <th>0</th>\n",
       "      <td>Belmont Cragin</td>\n",
       "    </tr>\n",
       "    <tr>\n",
       "      <th>1</th>\n",
       "      <td>Burnside</td>\n",
       "    </tr>\n",
       "    <tr>\n",
       "      <th>2</th>\n",
       "      <td>Brighton Park</td>\n",
       "    </tr>\n",
       "    <tr>\n",
       "      <th>3</th>\n",
       "      <td>Bridgeport</td>\n",
       "    </tr>\n",
       "    <tr>\n",
       "      <th>4</th>\n",
       "      <td>Beverly</td>\n",
       "    </tr>\n",
       "  </tbody>\n",
       "</table>\n",
       "</div>"
      ],
      "text/plain": [
       "  COMMUNITY_AREA_NAME\n",
       "0      Belmont Cragin\n",
       "1            Burnside\n",
       "2       Brighton Park\n",
       "3          Bridgeport\n",
       "4             Beverly"
      ]
     },
     "execution_count": 169,
     "metadata": {},
     "output_type": "execute_result"
    }
   ],
   "source": [
    "df_Q5"
   ]
  },
  {
   "cell_type": "code",
   "execution_count": 170,
   "metadata": {},
   "outputs": [
    {
     "data": {
      "text/html": [
       "<div>\n",
       "<style scoped>\n",
       "    .dataframe tbody tr th:only-of-type {\n",
       "        vertical-align: middle;\n",
       "    }\n",
       "\n",
       "    .dataframe tbody tr th {\n",
       "        vertical-align: top;\n",
       "    }\n",
       "\n",
       "    .dataframe thead th {\n",
       "        text-align: right;\n",
       "    }\n",
       "</style>\n",
       "<table border=\"1\" class=\"dataframe\">\n",
       "  <thead>\n",
       "    <tr style=\"text-align: right;\">\n",
       "      <th></th>\n",
       "      <th>COMMUNITY_AREA_NUMBER</th>\n",
       "      <th>COMMUNITY_AREA_NAME</th>\n",
       "      <th>PERCENT_OF_HOUSING_CROWDED</th>\n",
       "      <th>PERCENT_HOUSEHOLDS_BELOW_POVERTY</th>\n",
       "      <th>PERCENT_AGED_16__UNEMPLOYED</th>\n",
       "      <th>PERCENT_AGED_25__WITHOUT_HIGH_SCHOOL_DIPLOMA</th>\n",
       "      <th>PERCENT_AGED_UNDER_18_OR_OVER_64</th>\n",
       "      <th>PER_CAPITA_INCOME</th>\n",
       "      <th>HARDSHIP_INDEX</th>\n",
       "    </tr>\n",
       "  </thead>\n",
       "  <tbody>\n",
       "    <tr>\n",
       "      <th>18</th>\n",
       "      <td>19.0</td>\n",
       "      <td>Belmont Cragin</td>\n",
       "      <td>10.8</td>\n",
       "      <td>18.7</td>\n",
       "      <td>14.6</td>\n",
       "      <td>37.3</td>\n",
       "      <td>37.3</td>\n",
       "      <td>15461</td>\n",
       "      <td>70.0</td>\n",
       "    </tr>\n",
       "    <tr>\n",
       "      <th>46</th>\n",
       "      <td>47.0</td>\n",
       "      <td>Burnside</td>\n",
       "      <td>6.8</td>\n",
       "      <td>33.0</td>\n",
       "      <td>18.6</td>\n",
       "      <td>19.3</td>\n",
       "      <td>42.7</td>\n",
       "      <td>12515</td>\n",
       "      <td>79.0</td>\n",
       "    </tr>\n",
       "    <tr>\n",
       "      <th>57</th>\n",
       "      <td>58.0</td>\n",
       "      <td>Brighton Park</td>\n",
       "      <td>14.4</td>\n",
       "      <td>23.6</td>\n",
       "      <td>13.9</td>\n",
       "      <td>45.1</td>\n",
       "      <td>39.3</td>\n",
       "      <td>13089</td>\n",
       "      <td>84.0</td>\n",
       "    </tr>\n",
       "    <tr>\n",
       "      <th>59</th>\n",
       "      <td>60.0</td>\n",
       "      <td>Bridgeport</td>\n",
       "      <td>4.5</td>\n",
       "      <td>18.9</td>\n",
       "      <td>13.7</td>\n",
       "      <td>22.2</td>\n",
       "      <td>31.3</td>\n",
       "      <td>22694</td>\n",
       "      <td>43.0</td>\n",
       "    </tr>\n",
       "    <tr>\n",
       "      <th>71</th>\n",
       "      <td>72.0</td>\n",
       "      <td>Beverly</td>\n",
       "      <td>0.9</td>\n",
       "      <td>5.1</td>\n",
       "      <td>8.0</td>\n",
       "      <td>3.7</td>\n",
       "      <td>40.5</td>\n",
       "      <td>39523</td>\n",
       "      <td>12.0</td>\n",
       "    </tr>\n",
       "  </tbody>\n",
       "</table>\n",
       "</div>"
      ],
      "text/plain": [
       "    COMMUNITY_AREA_NUMBER COMMUNITY_AREA_NAME  PERCENT_OF_HOUSING_CROWDED  \\\n",
       "18                   19.0      Belmont Cragin                        10.8   \n",
       "46                   47.0            Burnside                         6.8   \n",
       "57                   58.0       Brighton Park                        14.4   \n",
       "59                   60.0          Bridgeport                         4.5   \n",
       "71                   72.0             Beverly                         0.9   \n",
       "\n",
       "    PERCENT_HOUSEHOLDS_BELOW_POVERTY  PERCENT_AGED_16__UNEMPLOYED  \\\n",
       "18                              18.7                         14.6   \n",
       "46                              33.0                         18.6   \n",
       "57                              23.6                         13.9   \n",
       "59                              18.9                         13.7   \n",
       "71                               5.1                          8.0   \n",
       "\n",
       "    PERCENT_AGED_25__WITHOUT_HIGH_SCHOOL_DIPLOMA  \\\n",
       "18                                          37.3   \n",
       "46                                          19.3   \n",
       "57                                          45.1   \n",
       "59                                          22.2   \n",
       "71                                           3.7   \n",
       "\n",
       "    PERCENT_AGED_UNDER_18_OR_OVER_64  PER_CAPITA_INCOME  HARDSHIP_INDEX  \n",
       "18                              37.3              15461            70.0  \n",
       "46                              42.7              12515            79.0  \n",
       "57                              39.3              13089            84.0  \n",
       "59                              31.3              22694            43.0  \n",
       "71                              40.5              39523            12.0  "
      ]
     },
     "execution_count": 170,
     "metadata": {},
     "output_type": "execute_result"
    }
   ],
   "source": [
    "df_census[df_census['COMMUNITY_AREA_NAME'].str.contains(r'^B.*') == True]"
   ]
  },
  {
   "cell_type": "markdown",
   "metadata": {},
   "source": [
    "### Q6. List the schools in community areas 10 to 15 that are healthy school certified."
   ]
  },
  {
   "cell_type": "code",
   "execution_count": 17,
   "metadata": {},
   "outputs": [
    {
     "name": "stdout",
     "output_type": "stream",
     "text": [
      " * ibm_db_sa://gsv42017:***@dashdb-txn-sbox-yp-dal09-03.services.dal.bluemix.net:50000/BLUDB\n",
      "Done.\n"
     ]
    },
    {
     "data": {
      "text/html": [
       "<table>\n",
       "    <tr>\n",
       "        <th>name_of_school</th>\n",
       "        <th>community_area_number</th>\n",
       "    </tr>\n",
       "    <tr>\n",
       "        <td>Rufus M Hitch Elementary School</td>\n",
       "        <td>10</td>\n",
       "    </tr>\n",
       "</table>"
      ],
      "text/plain": [
       "[('Rufus M Hitch Elementary School', 10)]"
      ]
     },
     "execution_count": 17,
     "metadata": {},
     "output_type": "execute_result"
    }
   ],
   "source": [
    "#Q6 \n",
    "%sql select Name_of_School, Community_Area_Number from CHICAGO_PUBLIC_SCHOOLS \\\n",
    "    where lower(healthy_school_certified) = 'yes' \\\n",
    "         and community_area_number between 10 and 15;"
   ]
  },
  {
   "cell_type": "code",
   "execution_count": 212,
   "metadata": {},
   "outputs": [],
   "source": [
    "sqlQ6 = \"select Name_of_School, Community_Area_Number from CHICAGO_PUBLIC_SCHOOLS where lower(healthy_school_certified) = 'yes' \\\n",
    "         and community_area_number between 10 and 15\""
   ]
  },
  {
   "cell_type": "code",
   "execution_count": 213,
   "metadata": {},
   "outputs": [],
   "source": [
    "df_Q6 = pd.read_sql_query(sqlQ6,pconn)"
   ]
  },
  {
   "cell_type": "code",
   "execution_count": 214,
   "metadata": {},
   "outputs": [
    {
     "data": {
      "text/html": [
       "<div>\n",
       "<style scoped>\n",
       "    .dataframe tbody tr th:only-of-type {\n",
       "        vertical-align: middle;\n",
       "    }\n",
       "\n",
       "    .dataframe tbody tr th {\n",
       "        vertical-align: top;\n",
       "    }\n",
       "\n",
       "    .dataframe thead th {\n",
       "        text-align: right;\n",
       "    }\n",
       "</style>\n",
       "<table border=\"1\" class=\"dataframe\">\n",
       "  <thead>\n",
       "    <tr style=\"text-align: right;\">\n",
       "      <th></th>\n",
       "      <th>NAME_OF_SCHOOL</th>\n",
       "      <th>COMMUNITY_AREA_NUMBER</th>\n",
       "    </tr>\n",
       "  </thead>\n",
       "  <tbody>\n",
       "    <tr>\n",
       "      <th>0</th>\n",
       "      <td>Rufus M Hitch Elementary School</td>\n",
       "      <td>10</td>\n",
       "    </tr>\n",
       "  </tbody>\n",
       "</table>\n",
       "</div>"
      ],
      "text/plain": [
       "                    NAME_OF_SCHOOL  COMMUNITY_AREA_NUMBER\n",
       "0  Rufus M Hitch Elementary School                     10"
      ]
     },
     "execution_count": 214,
     "metadata": {},
     "output_type": "execute_result"
    }
   ],
   "source": [
    "df_Q6"
   ]
  },
  {
   "cell_type": "code",
   "execution_count": null,
   "metadata": {},
   "outputs": [],
   "source": [
    "# cross checking in Pandas"
   ]
  },
  {
   "cell_type": "code",
   "execution_count": 232,
   "metadata": {},
   "outputs": [
    {
     "name": "stderr",
     "output_type": "stream",
     "text": [
      "C:\\Anaconda3\\lib\\site-packages\\ipykernel_launcher.py:1: UserWarning: This pattern has match groups. To actually get the groups, use str.extract.\n",
      "  \"\"\"Entry point for launching an IPython kernel.\n"
     ]
    }
   ],
   "source": [
    "df_q6_school = df_school[df_school.HEALTHY_SCHOOL_CERTIFIED.str.contains(r'(^[Yy.*])') == True]\n",
    "         "
   ]
  },
  {
   "cell_type": "code",
   "execution_count": 234,
   "metadata": {},
   "outputs": [
    {
     "data": {
      "text/html": [
       "<div>\n",
       "<style scoped>\n",
       "    .dataframe tbody tr th:only-of-type {\n",
       "        vertical-align: middle;\n",
       "    }\n",
       "\n",
       "    .dataframe tbody tr th {\n",
       "        vertical-align: top;\n",
       "    }\n",
       "\n",
       "    .dataframe thead th {\n",
       "        text-align: right;\n",
       "    }\n",
       "</style>\n",
       "<table border=\"1\" class=\"dataframe\">\n",
       "  <thead>\n",
       "    <tr style=\"text-align: right;\">\n",
       "      <th></th>\n",
       "      <th>School_ID</th>\n",
       "      <th>NAME_OF_SCHOOL</th>\n",
       "      <th>Elementary, Middle, or High School</th>\n",
       "      <th>Street_Address</th>\n",
       "      <th>City</th>\n",
       "      <th>State</th>\n",
       "      <th>ZIP_Code</th>\n",
       "      <th>Phone_Number</th>\n",
       "      <th>Link</th>\n",
       "      <th>Network_Manager</th>\n",
       "      <th>Collaborative_Name</th>\n",
       "      <th>Adequate_Yearly_Progress_Made_</th>\n",
       "      <th>Track_Schedule</th>\n",
       "      <th>CPS_Performance_Policy_Status</th>\n",
       "      <th>CPS_Performance_Policy_Level</th>\n",
       "      <th>HEALTHY_SCHOOL_CERTIFIED</th>\n",
       "      <th>Safety_Icon</th>\n",
       "      <th>SAFETY_SCORE</th>\n",
       "      <th>Family_Involvement_Icon</th>\n",
       "      <th>Family_Involvement_Score</th>\n",
       "      <th>Environment_Icon</th>\n",
       "      <th>Environment_Score</th>\n",
       "      <th>Instruction_Icon</th>\n",
       "      <th>Instruction_Score</th>\n",
       "      <th>Leaders_Icon</th>\n",
       "      <th>Leaders_Score</th>\n",
       "      <th>Teachers_Icon</th>\n",
       "      <th>Teachers_Score</th>\n",
       "      <th>Parent_Engagement_Icon</th>\n",
       "      <th>Parent_Engagement_Score</th>\n",
       "      <th>Parent_Environment_Icon</th>\n",
       "      <th>Parent_Environment_Score</th>\n",
       "      <th>AVERAGE_STUDENT_ATTENDANCE</th>\n",
       "      <th>Rate_of_Misconducts__per_100_students_</th>\n",
       "      <th>Average_Teacher_Attendance</th>\n",
       "      <th>Individualized_Education_Program_Compliance_Rate</th>\n",
       "      <th>Pk_2_Literacy__</th>\n",
       "      <th>Pk_2_Math__</th>\n",
       "      <th>Gr3_5_Grade_Level_Math__</th>\n",
       "      <th>Gr3_5_Grade_Level_Read__</th>\n",
       "      <th>Gr3_5_Keep_Pace_Read__</th>\n",
       "      <th>Gr3_5_Keep_Pace_Math__</th>\n",
       "      <th>Gr6_8_Grade_Level_Math__</th>\n",
       "      <th>Gr6_8_Grade_Level_Read__</th>\n",
       "      <th>Gr6_8_Keep_Pace_Math_</th>\n",
       "      <th>Gr6_8_Keep_Pace_Read__</th>\n",
       "      <th>Gr_8_Explore_Math__</th>\n",
       "      <th>Gr_8_Explore_Read__</th>\n",
       "      <th>ISAT_Exceeding_Math__</th>\n",
       "      <th>ISAT_Exceeding_Reading__</th>\n",
       "      <th>ISAT_Value_Add_Math</th>\n",
       "      <th>ISAT_Value_Add_Read</th>\n",
       "      <th>ISAT_Value_Add_Color_Math</th>\n",
       "      <th>ISAT_Value_Add_Color_Read</th>\n",
       "      <th>Students_Taking__Algebra__</th>\n",
       "      <th>Students_Passing__Algebra__</th>\n",
       "      <th>9th Grade EXPLORE (2009)</th>\n",
       "      <th>9th Grade EXPLORE (2010)</th>\n",
       "      <th>10th Grade PLAN (2009)</th>\n",
       "      <th>10th Grade PLAN (2010)</th>\n",
       "      <th>Net_Change_EXPLORE_and_PLAN</th>\n",
       "      <th>11th Grade Average ACT (2011)</th>\n",
       "      <th>Net_Change_PLAN_and_ACT</th>\n",
       "      <th>College_Eligibility__</th>\n",
       "      <th>Graduation_Rate__</th>\n",
       "      <th>College_Enrollment_Rate__</th>\n",
       "      <th>COLLEGE_ENROLLMENT</th>\n",
       "      <th>General_Services_Route</th>\n",
       "      <th>Freshman_on_Track_Rate__</th>\n",
       "      <th>X_COORDINATE</th>\n",
       "      <th>Y_COORDINATE</th>\n",
       "      <th>Latitude</th>\n",
       "      <th>Longitude</th>\n",
       "      <th>COMMUNITY_AREA_NUMBER</th>\n",
       "      <th>COMMUNITY_AREA_NAME</th>\n",
       "      <th>Ward</th>\n",
       "      <th>Police_District</th>\n",
       "      <th>Location</th>\n",
       "    </tr>\n",
       "  </thead>\n",
       "  <tbody>\n",
       "    <tr>\n",
       "      <th>471</th>\n",
       "      <td>609995</td>\n",
       "      <td>Rufus M Hitch Elementary School</td>\n",
       "      <td>ES</td>\n",
       "      <td>5625 N McVicker Ave</td>\n",
       "      <td>Chicago</td>\n",
       "      <td>IL</td>\n",
       "      <td>60646</td>\n",
       "      <td>(773) 534-1189</td>\n",
       "      <td>http://schoolreports.cps.edu/SchoolProgressRep...</td>\n",
       "      <td>O'Hare Elementary Network</td>\n",
       "      <td>NORTH-NORTHWEST SIDE COLLABORATIVE</td>\n",
       "      <td>No</td>\n",
       "      <td>Standard</td>\n",
       "      <td>Not on Probation</td>\n",
       "      <td>Level 1</td>\n",
       "      <td>Yes</td>\n",
       "      <td>Strong</td>\n",
       "      <td>64.0</td>\n",
       "      <td>Strong</td>\n",
       "      <td>77</td>\n",
       "      <td>Average</td>\n",
       "      <td>55.0</td>\n",
       "      <td>Average</td>\n",
       "      <td>58.0</td>\n",
       "      <td>Strong</td>\n",
       "      <td>65</td>\n",
       "      <td>Strong</td>\n",
       "      <td>70</td>\n",
       "      <td>Strong</td>\n",
       "      <td>55</td>\n",
       "      <td>Strong</td>\n",
       "      <td>54</td>\n",
       "      <td>95.10%</td>\n",
       "      <td>3.7</td>\n",
       "      <td>96.60%</td>\n",
       "      <td>98.60%</td>\n",
       "      <td>73.7</td>\n",
       "      <td>27.6</td>\n",
       "      <td>62.2</td>\n",
       "      <td>51.7</td>\n",
       "      <td>50</td>\n",
       "      <td>67.8</td>\n",
       "      <td>56.5</td>\n",
       "      <td>54.8</td>\n",
       "      <td>52</td>\n",
       "      <td>63.3</td>\n",
       "      <td>22.9</td>\n",
       "      <td>37.5</td>\n",
       "      <td>29.5</td>\n",
       "      <td>24.7</td>\n",
       "      <td>-0.1</td>\n",
       "      <td>0.0</td>\n",
       "      <td>Yellow</td>\n",
       "      <td>Yellow</td>\n",
       "      <td>NDA</td>\n",
       "      <td>NDA</td>\n",
       "      <td>NDA</td>\n",
       "      <td>NDA</td>\n",
       "      <td>NDA</td>\n",
       "      <td>NDA</td>\n",
       "      <td>NDA</td>\n",
       "      <td>NDA</td>\n",
       "      <td>NDA</td>\n",
       "      <td>NDA</td>\n",
       "      <td>NDA</td>\n",
       "      <td>NDA</td>\n",
       "      <td>542</td>\n",
       "      <td>30</td>\n",
       "      <td>NDA</td>\n",
       "      <td>1134940.195</td>\n",
       "      <td>1937129.571</td>\n",
       "      <td>41.983678</td>\n",
       "      <td>-87.779086</td>\n",
       "      <td>10</td>\n",
       "      <td>NORWOOD PARK</td>\n",
       "      <td>45</td>\n",
       "      <td>16</td>\n",
       "      <td>(41.98367756, -87.77908614)</td>\n",
       "    </tr>\n",
       "  </tbody>\n",
       "</table>\n",
       "</div>"
      ],
      "text/plain": [
       "     School_ID                   NAME_OF_SCHOOL  ... Police_District                     Location\n",
       "471     609995  Rufus M Hitch Elementary School  ...              16  (41.98367756, -87.77908614)\n",
       "\n",
       "[1 rows x 78 columns]"
      ]
     },
     "execution_count": 234,
     "metadata": {},
     "output_type": "execute_result"
    }
   ],
   "source": [
    "df_q6_school[df_q6_school.COMMUNITY_AREA_NUMBER.between(10,15)]"
   ]
  },
  {
   "cell_type": "markdown",
   "metadata": {},
   "source": [
    "### Q7 What is the average school Safety Score?"
   ]
  },
  {
   "cell_type": "code",
   "execution_count": 23,
   "metadata": {},
   "outputs": [
    {
     "name": "stdout",
     "output_type": "stream",
     "text": [
      " * ibm_db_sa://gsv42017:***@dashdb-txn-sbox-yp-dal09-03.services.dal.bluemix.net:50000/BLUDB\n",
      "Done.\n",
      " * ibm_db_sa://gsv42017:***@dashdb-txn-sbox-yp-dal09-03.services.dal.bluemix.net:50000/BLUDB\n",
      "Done.\n"
     ]
    },
    {
     "data": {
      "text/html": [
       "<table>\n",
       "    <tr>\n",
       "        <th>1</th>\n",
       "    </tr>\n",
       "    <tr>\n",
       "        <td>49.504873</td>\n",
       "    </tr>\n",
       "</table>"
      ],
      "text/plain": [
       "[(Decimal('49.504873'),)]"
      ]
     },
     "execution_count": 23,
     "metadata": {},
     "output_type": "execute_result"
    }
   ],
   "source": [
    "#Q7\n",
    "%sql Select median(safety_score) from chicago_public_schools;\n",
    "%sql Select avg(safety_score) from chicago_public_schools"
   ]
  },
  {
   "cell_type": "code",
   "execution_count": 239,
   "metadata": {},
   "outputs": [],
   "source": [
    "sqlQ7 = \"Select avg(safety_score) from chicago_public_schools\""
   ]
  },
  {
   "cell_type": "code",
   "execution_count": 240,
   "metadata": {},
   "outputs": [],
   "source": [
    "df_Q7 = pd.read_sql_query(sqlQ7,pconn)\n"
   ]
  },
  {
   "cell_type": "code",
   "execution_count": 241,
   "metadata": {},
   "outputs": [
    {
     "data": {
      "text/html": [
       "<div>\n",
       "<style scoped>\n",
       "    .dataframe tbody tr th:only-of-type {\n",
       "        vertical-align: middle;\n",
       "    }\n",
       "\n",
       "    .dataframe tbody tr th {\n",
       "        vertical-align: top;\n",
       "    }\n",
       "\n",
       "    .dataframe thead th {\n",
       "        text-align: right;\n",
       "    }\n",
       "</style>\n",
       "<table border=\"1\" class=\"dataframe\">\n",
       "  <thead>\n",
       "    <tr style=\"text-align: right;\">\n",
       "      <th></th>\n",
       "      <th>1</th>\n",
       "    </tr>\n",
       "  </thead>\n",
       "  <tbody>\n",
       "    <tr>\n",
       "      <th>0</th>\n",
       "      <td>49.504873</td>\n",
       "    </tr>\n",
       "  </tbody>\n",
       "</table>\n",
       "</div>"
      ],
      "text/plain": [
       "           1\n",
       "0  49.504873"
      ]
     },
     "execution_count": 241,
     "metadata": {},
     "output_type": "execute_result"
    }
   ],
   "source": [
    "df_Q7"
   ]
  },
  {
   "cell_type": "code",
   "execution_count": 246,
   "metadata": {},
   "outputs": [
    {
     "data": {
      "text/plain": [
       "49.50487329434698"
      ]
     },
     "execution_count": 246,
     "metadata": {},
     "output_type": "execute_result"
    }
   ],
   "source": [
    "df_school.SAFETY_SCORE.mean()"
   ]
  },
  {
   "cell_type": "markdown",
   "metadata": {},
   "source": [
    "### Q8 Find the top 5 Community Areas by average College Enrollment [number of students]."
   ]
  },
  {
   "cell_type": "code",
   "execution_count": 36,
   "metadata": {},
   "outputs": [
    {
     "name": "stdout",
     "output_type": "stream",
     "text": [
      " * ibm_db_sa://gsv42017:***@dashdb-txn-sbox-yp-dal09-03.services.dal.bluemix.net:50000/BLUDB\n",
      "Done.\n",
      " * ibm_db_sa://gsv42017:***@dashdb-txn-sbox-yp-dal09-03.services.dal.bluemix.net:50000/BLUDB\n",
      "Done.\n"
     ]
    },
    {
     "data": {
      "text/html": [
       "<table>\n",
       "    <tr>\n",
       "        <th>community_area_name</th>\n",
       "        <th>Avg_Enrollment</th>\n",
       "    </tr>\n",
       "    <tr>\n",
       "        <td>ARCHER HEIGHTS</td>\n",
       "        <td>2411.500000</td>\n",
       "    </tr>\n",
       "    <tr>\n",
       "        <td>MONTCLARE</td>\n",
       "        <td>1317.000000</td>\n",
       "    </tr>\n",
       "    <tr>\n",
       "        <td>WEST ELSDON</td>\n",
       "        <td>1233.333333</td>\n",
       "    </tr>\n",
       "    <tr>\n",
       "        <td>BRIGHTON PARK</td>\n",
       "        <td>1205.875000</td>\n",
       "    </tr>\n",
       "    <tr>\n",
       "        <td>BELMONT CRAGIN</td>\n",
       "        <td>1198.833333</td>\n",
       "    </tr>\n",
       "</table>"
      ],
      "text/plain": [
       "[('ARCHER HEIGHTS', Decimal('2411.500000')),\n",
       " ('MONTCLARE', Decimal('1317.000000')),\n",
       " ('WEST ELSDON', Decimal('1233.333333')),\n",
       " ('BRIGHTON PARK', Decimal('1205.875000')),\n",
       " ('BELMONT CRAGIN', Decimal('1198.833333'))]"
      ]
     },
     "execution_count": 36,
     "metadata": {},
     "output_type": "execute_result"
    }
   ],
   "source": [
    "#Q8\n",
    "%sql select community_area_name, community_area_number, college_enrollment\\\n",
    "        from chicago_public_schools order by college_enrollment desc limit 5;\n",
    "\n",
    "\n",
    "## Question is confusing: Correct query below:\n",
    "%sql select community_area_name, avg(college_enrollment) as \"Avg_Enrollment\" \\\n",
    "        from chicago_public_schools \\\n",
    "        group by community_area_name \\\n",
    "        order by \"Avg_Enrollment\" desc limit 5;"
   ]
  },
  {
   "cell_type": "code",
   "execution_count": 267,
   "metadata": {},
   "outputs": [],
   "source": [
    "sqlQ8 = \"select community_area_name, community_area_number, college_enrollment\\\n",
    "        from chicago_public_schools order by college_enrollment desc limit 5\""
   ]
  },
  {
   "cell_type": "code",
   "execution_count": 270,
   "metadata": {},
   "outputs": [],
   "source": [
    "df_Q8 = pd.read_sql(sqlQ8,pconn)"
   ]
  },
  {
   "cell_type": "code",
   "execution_count": 271,
   "metadata": {},
   "outputs": [
    {
     "data": {
      "text/html": [
       "<div>\n",
       "<style scoped>\n",
       "    .dataframe tbody tr th:only-of-type {\n",
       "        vertical-align: middle;\n",
       "    }\n",
       "\n",
       "    .dataframe tbody tr th {\n",
       "        vertical-align: top;\n",
       "    }\n",
       "\n",
       "    .dataframe thead th {\n",
       "        text-align: right;\n",
       "    }\n",
       "</style>\n",
       "<table border=\"1\" class=\"dataframe\">\n",
       "  <thead>\n",
       "    <tr style=\"text-align: right;\">\n",
       "      <th></th>\n",
       "      <th>COMMUNITY_AREA_NAME</th>\n",
       "      <th>COMMUNITY_AREA_NUMBER</th>\n",
       "      <th>COLLEGE_ENROLLMENT</th>\n",
       "    </tr>\n",
       "  </thead>\n",
       "  <tbody>\n",
       "    <tr>\n",
       "      <th>0</th>\n",
       "      <td>NORTH CENTER</td>\n",
       "      <td>5</td>\n",
       "      <td>4368</td>\n",
       "    </tr>\n",
       "    <tr>\n",
       "      <th>1</th>\n",
       "      <td>ARCHER HEIGHTS</td>\n",
       "      <td>57</td>\n",
       "      <td>3320</td>\n",
       "    </tr>\n",
       "    <tr>\n",
       "      <th>2</th>\n",
       "      <td>NORWOOD PARK</td>\n",
       "      <td>10</td>\n",
       "      <td>2922</td>\n",
       "    </tr>\n",
       "    <tr>\n",
       "      <th>3</th>\n",
       "      <td>BRIGHTON PARK</td>\n",
       "      <td>58</td>\n",
       "      <td>2883</td>\n",
       "    </tr>\n",
       "    <tr>\n",
       "      <th>4</th>\n",
       "      <td>IRVING PARK</td>\n",
       "      <td>16</td>\n",
       "      <td>2366</td>\n",
       "    </tr>\n",
       "  </tbody>\n",
       "</table>\n",
       "</div>"
      ],
      "text/plain": [
       "  COMMUNITY_AREA_NAME  COMMUNITY_AREA_NUMBER  COLLEGE_ENROLLMENT\n",
       "0        NORTH CENTER                      5                4368\n",
       "1      ARCHER HEIGHTS                     57                3320\n",
       "2        NORWOOD PARK                     10                2922\n",
       "3       BRIGHTON PARK                     58                2883\n",
       "4         IRVING PARK                     16                2366"
      ]
     },
     "execution_count": 271,
     "metadata": {},
     "output_type": "execute_result"
    }
   ],
   "source": [
    "df_Q8"
   ]
  },
  {
   "cell_type": "code",
   "execution_count": 277,
   "metadata": {
    "scrolled": false
   },
   "outputs": [],
   "source": [
    "# cross-checking in pandas\n",
    "\n",
    "#df_school['COMMUNITY_AREA_NAME'].\n",
    "pdf_Q8 = df_school.sort_values(by='COLLEGE_ENROLLMENT', ascending=False).head(5)"
   ]
  },
  {
   "cell_type": "code",
   "execution_count": 280,
   "metadata": {},
   "outputs": [
    {
     "data": {
      "text/html": [
       "<div>\n",
       "<style scoped>\n",
       "    .dataframe tbody tr th:only-of-type {\n",
       "        vertical-align: middle;\n",
       "    }\n",
       "\n",
       "    .dataframe tbody tr th {\n",
       "        vertical-align: top;\n",
       "    }\n",
       "\n",
       "    .dataframe thead th {\n",
       "        text-align: right;\n",
       "    }\n",
       "</style>\n",
       "<table border=\"1\" class=\"dataframe\">\n",
       "  <thead>\n",
       "    <tr style=\"text-align: right;\">\n",
       "      <th></th>\n",
       "      <th>NAME_OF_SCHOOL</th>\n",
       "      <th>COMMUNITY_AREA_NAME</th>\n",
       "      <th>COLLEGE_ENROLLMENT</th>\n",
       "    </tr>\n",
       "  </thead>\n",
       "  <tbody>\n",
       "    <tr>\n",
       "      <th>6</th>\n",
       "      <td>Albert G Lane Technical High School</td>\n",
       "      <td>NORTH CENTER</td>\n",
       "      <td>4368</td>\n",
       "    </tr>\n",
       "    <tr>\n",
       "      <th>357</th>\n",
       "      <td>Marie Sklodowska Curie Metropolitan High School</td>\n",
       "      <td>ARCHER HEIGHTS</td>\n",
       "      <td>3320</td>\n",
       "    </tr>\n",
       "    <tr>\n",
       "      <th>545</th>\n",
       "      <td>William Howard Taft High School</td>\n",
       "      <td>NORWOOD PARK</td>\n",
       "      <td>2922</td>\n",
       "    </tr>\n",
       "    <tr>\n",
       "      <th>508</th>\n",
       "      <td>Thomas Kelly High School</td>\n",
       "      <td>BRIGHTON PARK</td>\n",
       "      <td>2883</td>\n",
       "    </tr>\n",
       "    <tr>\n",
       "      <th>60</th>\n",
       "      <td>Carl Schurz High School</td>\n",
       "      <td>IRVING PARK</td>\n",
       "      <td>2366</td>\n",
       "    </tr>\n",
       "  </tbody>\n",
       "</table>\n",
       "</div>"
      ],
      "text/plain": [
       "                                      NAME_OF_SCHOOL COMMUNITY_AREA_NAME  COLLEGE_ENROLLMENT\n",
       "6                Albert G Lane Technical High School        NORTH CENTER                4368\n",
       "357  Marie Sklodowska Curie Metropolitan High School      ARCHER HEIGHTS                3320\n",
       "545                  William Howard Taft High School        NORWOOD PARK                2922\n",
       "508                         Thomas Kelly High School       BRIGHTON PARK                2883\n",
       "60                           Carl Schurz High School         IRVING PARK                2366"
      ]
     },
     "execution_count": 280,
     "metadata": {},
     "output_type": "execute_result"
    }
   ],
   "source": [
    "pdf_Q8[['NAME_OF_SCHOOL','COMMUNITY_AREA_NAME','COLLEGE_ENROLLMENT']]"
   ]
  },
  {
   "cell_type": "markdown",
   "metadata": {},
   "source": [
    "### Q9. Use a sub-query todeterminewhich Community Area has the least value for school Safety Score?"
   ]
  },
  {
   "cell_type": "code",
   "execution_count": 25,
   "metadata": {},
   "outputs": [
    {
     "name": "stdout",
     "output_type": "stream",
     "text": [
      " * ibm_db_sa://gsv42017:***@dashdb-txn-sbox-yp-dal09-03.services.dal.bluemix.net:50000/BLUDB\n",
      "Done.\n"
     ]
    },
    {
     "data": {
      "text/html": [
       "<table>\n",
       "    <tr>\n",
       "        <th>name_of_school</th>\n",
       "        <th>community_area_name</th>\n",
       "        <th>safety_score</th>\n",
       "    </tr>\n",
       "    <tr>\n",
       "        <td>Edmond Burke Elementary School</td>\n",
       "        <td>WASHINGTON PARK</td>\n",
       "        <td>1</td>\n",
       "    </tr>\n",
       "</table>"
      ],
      "text/plain": [
       "[('Edmond Burke Elementary School', 'WASHINGTON PARK', 1)]"
      ]
     },
     "execution_count": 25,
     "metadata": {},
     "output_type": "execute_result"
    }
   ],
   "source": [
    "#Q9\n",
    "%sql select name_of_school, community_area_name, safety_score from chicago_public_schools \\\n",
    "   where safety_score = (select min(safety_score) from chicago_public_schools)"
   ]
  },
  {
   "cell_type": "code",
   "execution_count": 389,
   "metadata": {},
   "outputs": [],
   "source": [
    "sqlQ9 = \"select name_of_school, community_area_name, safety_score from chicago_public_schools \\\n",
    "   where safety_score = (select min(safety_score) from chicago_public_schools)\"\n"
   ]
  },
  {
   "cell_type": "code",
   "execution_count": 313,
   "metadata": {},
   "outputs": [],
   "source": [
    "    \n",
    "## THIS IS INCORRECT\n",
    "#sqlQ9 = \"select distinct community_area_name from chicago_public_schools \\\n",
    "#   where \\\n",
    "#   exists ( select safety_score from chicago_public_schools where safety_score = 1);\""
   ]
  },
  {
   "cell_type": "code",
   "execution_count": 390,
   "metadata": {},
   "outputs": [],
   "source": [
    "df_Q9 = pd.read_sql(sqlQ9, pconn)"
   ]
  },
  {
   "cell_type": "code",
   "execution_count": 391,
   "metadata": {},
   "outputs": [
    {
     "data": {
      "text/html": [
       "<div>\n",
       "<style scoped>\n",
       "    .dataframe tbody tr th:only-of-type {\n",
       "        vertical-align: middle;\n",
       "    }\n",
       "\n",
       "    .dataframe tbody tr th {\n",
       "        vertical-align: top;\n",
       "    }\n",
       "\n",
       "    .dataframe thead th {\n",
       "        text-align: right;\n",
       "    }\n",
       "</style>\n",
       "<table border=\"1\" class=\"dataframe\">\n",
       "  <thead>\n",
       "    <tr style=\"text-align: right;\">\n",
       "      <th></th>\n",
       "      <th>NAME_OF_SCHOOL</th>\n",
       "      <th>COMMUNITY_AREA_NAME</th>\n",
       "      <th>SAFETY_SCORE</th>\n",
       "    </tr>\n",
       "  </thead>\n",
       "  <tbody>\n",
       "    <tr>\n",
       "      <th>0</th>\n",
       "      <td>Edmond Burke Elementary School</td>\n",
       "      <td>WASHINGTON PARK</td>\n",
       "      <td>1</td>\n",
       "    </tr>\n",
       "  </tbody>\n",
       "</table>\n",
       "</div>"
      ],
      "text/plain": [
       "                   NAME_OF_SCHOOL COMMUNITY_AREA_NAME  SAFETY_SCORE\n",
       "0  Edmond Burke Elementary School     WASHINGTON PARK             1"
      ]
     },
     "execution_count": 391,
     "metadata": {},
     "output_type": "execute_result"
    }
   ],
   "source": [
    "df_Q9"
   ]
  },
  {
   "cell_type": "code",
   "execution_count": 388,
   "metadata": {},
   "outputs": [
    {
     "data": {
      "text/plain": [
       "77"
      ]
     },
     "execution_count": 388,
     "metadata": {},
     "output_type": "execute_result"
    }
   ],
   "source": [
    "# cross-checking in pandas\n",
    "#df_school.sort_values(by='SAFETY_SCORE',ascending=True).head(5)\n",
    "#df_school['SAFETY_SCORE'].min()\n",
    "df_school[df_school.SAFETY_SCORE == 1]\n",
    "\n"
   ]
  },
  {
   "cell_type": "markdown",
   "metadata": {},
   "source": [
    "### Q10. [Without using an explicit JOIN operator] Find the Per Capita Income of the Community Area which has a school Safety Score of 1."
   ]
  },
  {
   "cell_type": "code",
   "execution_count": 26,
   "metadata": {},
   "outputs": [
    {
     "name": "stdout",
     "output_type": "stream",
     "text": [
      " * ibm_db_sa://gsv42017:***@dashdb-txn-sbox-yp-dal09-03.services.dal.bluemix.net:50000/BLUDB\n",
      "Done.\n"
     ]
    },
    {
     "data": {
      "text/html": [
       "<table>\n",
       "    <tr>\n",
       "        <th>per_capita_income</th>\n",
       "        <th>safety_score</th>\n",
       "        <th>community_area_name</th>\n",
       "    </tr>\n",
       "    <tr>\n",
       "        <td>13785</td>\n",
       "        <td>1</td>\n",
       "        <td>WASHINGTON PARK</td>\n",
       "    </tr>\n",
       "</table>"
      ],
      "text/plain": [
       "[(13785, 1, 'WASHINGTON PARK')]"
      ]
     },
     "execution_count": 26,
     "metadata": {},
     "output_type": "execute_result"
    }
   ],
   "source": [
    "#Q 10\n",
    "%sql select C.per_capita_income, S.safety_score, S.community_area_name \\\n",
    "    from census_data as C, chicago_public_schools as S \\\n",
    "    where C.community_area_number = S.community_area_number and S.safety_score = 1;"
   ]
  },
  {
   "cell_type": "code",
   "execution_count": 392,
   "metadata": {},
   "outputs": [],
   "source": [
    "sqlQ10 = \"select C.per_capita_income, S.safety_score, S.community_area_name \\\n",
    "    from census_data as C, chicago_public_schools as S \\\n",
    "    where C.community_area_number = S.community_area_number and S.safety_score = 1\""
   ]
  },
  {
   "cell_type": "code",
   "execution_count": 393,
   "metadata": {},
   "outputs": [],
   "source": [
    "df_Q10 = pd.read_sql(sqlQ10,pconn)"
   ]
  },
  {
   "cell_type": "code",
   "execution_count": 444,
   "metadata": {},
   "outputs": [
    {
     "data": {
      "text/html": [
       "<div>\n",
       "<style scoped>\n",
       "    .dataframe tbody tr th:only-of-type {\n",
       "        vertical-align: middle;\n",
       "    }\n",
       "\n",
       "    .dataframe tbody tr th {\n",
       "        vertical-align: top;\n",
       "    }\n",
       "\n",
       "    .dataframe thead th {\n",
       "        text-align: right;\n",
       "    }\n",
       "</style>\n",
       "<table border=\"1\" class=\"dataframe\">\n",
       "  <thead>\n",
       "    <tr style=\"text-align: right;\">\n",
       "      <th></th>\n",
       "      <th>PER_CAPITA_INCOME</th>\n",
       "      <th>SAFETY_SCORE</th>\n",
       "      <th>COMMUNITY_AREA_NAME</th>\n",
       "    </tr>\n",
       "  </thead>\n",
       "  <tbody>\n",
       "    <tr>\n",
       "      <th>0</th>\n",
       "      <td>13785</td>\n",
       "      <td>1</td>\n",
       "      <td>WASHINGTON PARK</td>\n",
       "    </tr>\n",
       "  </tbody>\n",
       "</table>\n",
       "</div>"
      ],
      "text/plain": [
       "   PER_CAPITA_INCOME  SAFETY_SCORE COMMUNITY_AREA_NAME\n",
       "0              13785             1     WASHINGTON PARK"
      ]
     },
     "execution_count": 444,
     "metadata": {},
     "output_type": "execute_result"
    }
   ],
   "source": [
    "df_Q10"
   ]
  },
  {
   "cell_type": "code",
   "execution_count": 443,
   "metadata": {},
   "outputs": [
    {
     "data": {
      "text/plain": [
       "321    13785\n",
       "Name: PER_CAPITA_INCOME, dtype: int64"
      ]
     },
     "execution_count": 443,
     "metadata": {},
     "output_type": "execute_result"
    }
   ],
   "source": [
    "# Q10. Cross checking in pandas\n",
    "result = df_census.merge(df_school,on=['COMMUNITY_AREA_NUMBER'], how='inner')\n",
    "result[result.SAFETY_SCORE == 1].PER_CAPITA_INCOME"
   ]
  },
  {
   "cell_type": "code",
   "execution_count": null,
   "metadata": {},
   "outputs": [],
   "source": []
  }
 ],
 "metadata": {
  "kernelspec": {
   "display_name": "Python 3",
   "language": "python",
   "name": "python3"
  },
  "language_info": {
   "codemirror_mode": {
    "name": "ipython",
    "version": 3
   },
   "file_extension": ".py",
   "mimetype": "text/x-python",
   "name": "python",
   "nbconvert_exporter": "python",
   "pygments_lexer": "ipython3",
   "version": "3.7.3"
  }
 },
 "nbformat": 4,
 "nbformat_minor": 2
}
